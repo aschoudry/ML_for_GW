{
  "nbformat": 4,
  "nbformat_minor": 0,
  "metadata": {
    "colab": {
      "name": "CNN_pycbc.ipynb",
      "provenance": [],
      "authorship_tag": "ABX9TyPgJLoeSM1JOolDlFLtjc4X",
      "include_colab_link": true
    },
    "kernelspec": {
      "name": "python3",
      "display_name": "Python 3"
    },
    "language_info": {
      "name": "python"
    }
  },
  "cells": [
    {
      "cell_type": "markdown",
      "metadata": {
        "id": "view-in-github",
        "colab_type": "text"
      },
      "source": [
        "<a href=\"https://colab.research.google.com/github/aschoudry/ML_imageClassifier/blob/main/CNN_pycbc.ipynb\" target=\"_parent\"><img src=\"https://colab.research.google.com/assets/colab-badge.svg\" alt=\"Open In Colab\"/></a>"
      ]
    },
    {
      "cell_type": "code",
      "metadata": {
        "id": "lgQJud7BQUjU"
      },
      "source": [
        "%matplotlib inline\n",
        "import tensorflow as tf\n",
        "from tensorflow import keras\n",
        "import matplotlib.pyplot as plt\n",
        "import random\n",
        "import numpy as np\n",
        "from tensorflow.keras import layers"
      ],
      "execution_count": 1,
      "outputs": []
    },
    {
      "cell_type": "code",
      "metadata": {
        "id": "_vwZvL57QeYR"
      },
      "source": [
        "model = keras.Sequential([layers.Conv2D(32, kernel_size=3, activation='relu', input_shape = (256,256, 3)), \n",
        "                          layers.MaxPool2D((3,3)), \n",
        "                          layers.Conv2D(64, kernel_size=3, activation='relu'), \n",
        "                          layers.MaxPool2D((3,3)), layers.Flatten(), \n",
        "                          layers.Dense(units=1)])"
      ],
      "execution_count": 2,
      "outputs": []
    },
    {
      "cell_type": "code",
      "metadata": {
        "colab": {
          "base_uri": "https://localhost:8080/"
        },
        "id": "ETWLDDnfQisO",
        "outputId": "2512cc24-dcec-4cb3-e6a6-7312145a244b"
      },
      "source": [
        "model.summary()"
      ],
      "execution_count": 3,
      "outputs": [
        {
          "output_type": "stream",
          "name": "stdout",
          "text": [
            "Model: \"sequential\"\n",
            "_________________________________________________________________\n",
            "Layer (type)                 Output Shape              Param #   \n",
            "=================================================================\n",
            "conv2d (Conv2D)              (None, 254, 254, 32)      896       \n",
            "_________________________________________________________________\n",
            "max_pooling2d (MaxPooling2D) (None, 84, 84, 32)        0         \n",
            "_________________________________________________________________\n",
            "conv2d_1 (Conv2D)            (None, 82, 82, 64)        18496     \n",
            "_________________________________________________________________\n",
            "max_pooling2d_1 (MaxPooling2 (None, 27, 27, 64)        0         \n",
            "_________________________________________________________________\n",
            "flatten (Flatten)            (None, 46656)             0         \n",
            "_________________________________________________________________\n",
            "dense (Dense)                (None, 1)                 46657     \n",
            "=================================================================\n",
            "Total params: 66,049\n",
            "Trainable params: 66,049\n",
            "Non-trainable params: 0\n",
            "_________________________________________________________________\n"
          ]
        }
      ]
    },
    {
      "cell_type": "code",
      "metadata": {
        "id": "cVf1plPhQnhF"
      },
      "source": [
        "model.compile(optimizer='Adam', loss='mse')"
      ],
      "execution_count": 4,
      "outputs": []
    },
    {
      "cell_type": "code",
      "metadata": {
        "id": "UiqGj75ZQqWv"
      },
      "source": [
        "def process_path(file_path):\n",
        "  label = tf.strings.split(file_path, '_')[-2]\n",
        "  label = tf.strings.to_number(label)\n",
        "  image = tf.io.decode_png(tf.io.read_file(file_path))\n",
        "  image = tf.cast(image, tf.float32)\n",
        "  image/=255\n",
        "  return image, label"
      ],
      "execution_count": 5,
      "outputs": []
    },
    {
      "cell_type": "code",
      "metadata": {
        "colab": {
          "base_uri": "https://localhost:8080/"
        },
        "id": "sHYXTYQ-QslN",
        "outputId": "d7eba4f0-3d15-4edc-f457-0cb78b7b6ee9"
      },
      "source": [
        "from google.colab import drive\n",
        "drive.mount('/content/gdrive')"
      ],
      "execution_count": 6,
      "outputs": [
        {
          "output_type": "stream",
          "name": "stdout",
          "text": [
            "Mounted at /content/gdrive\n"
          ]
        }
      ]
    },
    {
      "cell_type": "code",
      "metadata": {
        "id": "8p8yjUGlQu9t"
      },
      "source": [
        "list_ds_train = tf.data.Dataset.list_files('/content/gdrive/MyDrive/pycbc_image_data/train_m_*_.png', shuffle=True)\n",
        "labeled_ds_train = list_ds_train.map(process_path)\n",
        "labeled_ds_train = labeled_ds_train.batch(20)"
      ],
      "execution_count": 7,
      "outputs": []
    },
    {
      "cell_type": "code",
      "metadata": {
        "id": "m0WXDyL6Q5N1"
      },
      "source": [
        "list_ds_test = tf.data.Dataset.list_files('/content/gdrive/MyDrive/pycbc_image_data/test_m_*_.png', shuffle=True)\n",
        "labeled_ds_test = list_ds_test.map(process_path)\n",
        "labeled_ds_test = labeled_ds_test.batch(20)"
      ],
      "execution_count": 8,
      "outputs": []
    },
    {
      "cell_type": "code",
      "metadata": {
        "colab": {
          "base_uri": "https://localhost:8080/"
        },
        "id": "w1MTnAnjQ7se",
        "outputId": "a98b6905-1959-4058-fb58-cded3c8dfa02"
      },
      "source": [
        "history = model.fit(labeled_ds_train, epochs=50, verbose=2, validation_data=labeled_ds_test)"
      ],
      "execution_count": 9,
      "outputs": [
        {
          "output_type": "stream",
          "name": "stdout",
          "text": [
            "Epoch 1/50\n",
            "75/75 - 190s - loss: 941.5182 - val_loss: 17.9993\n",
            "Epoch 2/50\n",
            "75/75 - 72s - loss: 3.4676 - val_loss: 1.7025\n",
            "Epoch 3/50\n",
            "75/75 - 73s - loss: 1.0563 - val_loss: 0.7661\n",
            "Epoch 4/50\n",
            "75/75 - 73s - loss: 0.6307 - val_loss: 0.6610\n",
            "Epoch 5/50\n",
            "75/75 - 73s - loss: 0.4081 - val_loss: 0.4317\n",
            "Epoch 6/50\n",
            "75/75 - 73s - loss: 0.3829 - val_loss: 0.3851\n",
            "Epoch 7/50\n",
            "75/75 - 73s - loss: 0.2722 - val_loss: 0.2765\n",
            "Epoch 8/50\n",
            "75/75 - 73s - loss: 0.2511 - val_loss: 0.2586\n",
            "Epoch 9/50\n",
            "75/75 - 73s - loss: 0.2310 - val_loss: 0.2225\n",
            "Epoch 10/50\n",
            "75/75 - 73s - loss: 0.2007 - val_loss: 0.2603\n",
            "Epoch 11/50\n",
            "75/75 - 73s - loss: 0.1995 - val_loss: 0.1926\n",
            "Epoch 12/50\n",
            "75/75 - 72s - loss: 0.1503 - val_loss: 0.1587\n",
            "Epoch 13/50\n",
            "75/75 - 73s - loss: 0.1591 - val_loss: 0.1634\n",
            "Epoch 14/50\n",
            "75/75 - 73s - loss: 0.1295 - val_loss: 0.1476\n",
            "Epoch 15/50\n",
            "75/75 - 73s - loss: 0.1368 - val_loss: 0.1129\n",
            "Epoch 16/50\n",
            "75/75 - 73s - loss: 0.0980 - val_loss: 0.1615\n",
            "Epoch 17/50\n",
            "75/75 - 72s - loss: 0.1186 - val_loss: 0.0892\n",
            "Epoch 18/50\n",
            "75/75 - 72s - loss: 0.1208 - val_loss: 0.1146\n",
            "Epoch 19/50\n",
            "75/75 - 72s - loss: 0.1068 - val_loss: 0.1586\n",
            "Epoch 20/50\n",
            "75/75 - 72s - loss: 0.1794 - val_loss: 0.1773\n",
            "Epoch 21/50\n",
            "75/75 - 72s - loss: 0.0919 - val_loss: 0.0883\n",
            "Epoch 22/50\n",
            "75/75 - 72s - loss: 0.0736 - val_loss: 0.0552\n",
            "Epoch 23/50\n",
            "75/75 - 72s - loss: 0.0743 - val_loss: 0.1897\n",
            "Epoch 24/50\n",
            "75/75 - 72s - loss: 0.1600 - val_loss: 0.0883\n",
            "Epoch 25/50\n",
            "75/75 - 72s - loss: 0.0928 - val_loss: 0.1264\n",
            "Epoch 26/50\n",
            "75/75 - 72s - loss: 0.0691 - val_loss: 0.0416\n",
            "Epoch 27/50\n",
            "75/75 - 72s - loss: 0.0849 - val_loss: 0.1485\n",
            "Epoch 28/50\n",
            "75/75 - 72s - loss: 0.0908 - val_loss: 0.0594\n",
            "Epoch 29/50\n",
            "75/75 - 72s - loss: 0.0557 - val_loss: 0.1049\n",
            "Epoch 30/50\n",
            "75/75 - 72s - loss: 0.0672 - val_loss: 0.0538\n",
            "Epoch 31/50\n",
            "75/75 - 72s - loss: 0.0897 - val_loss: 0.0595\n",
            "Epoch 32/50\n",
            "75/75 - 72s - loss: 0.0739 - val_loss: 0.2374\n",
            "Epoch 33/50\n",
            "75/75 - 72s - loss: 0.1430 - val_loss: 0.1868\n",
            "Epoch 34/50\n",
            "75/75 - 72s - loss: 0.1190 - val_loss: 0.2116\n",
            "Epoch 35/50\n",
            "75/75 - 72s - loss: 0.1505 - val_loss: 0.0574\n",
            "Epoch 36/50\n",
            "75/75 - 72s - loss: 0.0440 - val_loss: 0.0325\n",
            "Epoch 37/50\n",
            "75/75 - 72s - loss: 0.0593 - val_loss: 0.0322\n",
            "Epoch 38/50\n",
            "75/75 - 72s - loss: 0.2457 - val_loss: 0.1095\n",
            "Epoch 39/50\n",
            "75/75 - 72s - loss: 0.1958 - val_loss: 0.5078\n",
            "Epoch 40/50\n",
            "75/75 - 72s - loss: 0.2729 - val_loss: 0.0497\n",
            "Epoch 41/50\n",
            "75/75 - 72s - loss: 0.2086 - val_loss: 0.4784\n",
            "Epoch 42/50\n",
            "75/75 - 72s - loss: 0.3190 - val_loss: 0.0520\n",
            "Epoch 43/50\n",
            "75/75 - 72s - loss: 0.0744 - val_loss: 0.0307\n",
            "Epoch 44/50\n",
            "75/75 - 72s - loss: 0.0899 - val_loss: 0.1495\n",
            "Epoch 45/50\n",
            "75/75 - 72s - loss: 0.1454 - val_loss: 0.0418\n",
            "Epoch 46/50\n",
            "75/75 - 72s - loss: 0.0805 - val_loss: 0.2863\n",
            "Epoch 47/50\n",
            "75/75 - 73s - loss: 0.0788 - val_loss: 0.0470\n",
            "Epoch 48/50\n",
            "75/75 - 73s - loss: 0.0686 - val_loss: 0.0520\n",
            "Epoch 49/50\n",
            "75/75 - 72s - loss: 0.1355 - val_loss: 0.3002\n",
            "Epoch 50/50\n",
            "75/75 - 72s - loss: 0.1945 - val_loss: 0.1116\n"
          ]
        }
      ]
    },
    {
      "cell_type": "code",
      "metadata": {
        "colab": {
          "base_uri": "https://localhost:8080/",
          "height": 265
        },
        "id": "s7DcI53vRCJY",
        "outputId": "a23f917b-e5c2-45fe-9171-63846f84d900"
      },
      "source": [
        "plt.plot(history.history['loss'], 'r')\n",
        "plt.plot(history.history['val_loss'])\n",
        "plt.yscale(\"log\")"
      ],
      "execution_count": 10,
      "outputs": [
        {
          "output_type": "display_data",
          "data": {
            "image/png": "[encoded data removed]",
            "text/plain": [
              "<Figure size 432x288 with 1 Axes>"
            ]
          },
          "metadata": {
            "needs_background": "light"
          }
        }
      ]
    },
    {
      "cell_type": "code",
      "metadata": {
        "id": "ipTN9zmnRGTo"
      },
      "source": [
        ""
      ],
      "execution_count": null,
      "outputs": []
    }
  ]
}