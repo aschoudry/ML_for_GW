{
  "nbformat": 4,
  "nbformat_minor": 0,
  "metadata": {
    "colab": {
      "name": "CIFAR.ipynb",
      "provenance": [],
      "collapsed_sections": [],
      "authorship_tag": "ABX9TyMctEPBunRChKHxlOcKT/OD",
      "include_colab_link": true
    },
    "kernelspec": {
      "name": "python3",
      "display_name": "Python 3"
    },
    "language_info": {
      "name": "python"
    },
    "accelerator": "GPU"
  },
  "cells": [
    {
      "cell_type": "markdown",
      "metadata": {
        "id": "view-in-github",
        "colab_type": "text"
      },
      "source": [
        "<a href=\"https://colab.research.google.com/github/aschoudry/ML_imageClassifier/blob/main/CIFAR.ipynb\" target=\"_parent\"><img src=\"https://colab.research.google.com/assets/colab-badge.svg\" alt=\"Open In Colab\"/></a>"
      ]
    },
    {
      "cell_type": "code",
      "metadata": {
        "id": "SA7skJ92WNYL"
      },
      "source": [
        "%matplotlib inline\n",
        "import tensorflow as tf\n",
        "from tensorflow import keras\n",
        "import matplotlib.pyplot as plt\n",
        "import random\n",
        "import numpy as np"
      ],
      "execution_count": 1,
      "outputs": []
    },
    {
      "cell_type": "code",
      "metadata": {
        "id": "TZeUCWu0WXmY"
      },
      "source": [
        "(x_train, y_train), (x_test, y_test) = keras.datasets.cifar10.load_data()"
      ],
      "execution_count": 2,
      "outputs": []
    },
    {
      "cell_type": "code",
      "metadata": {
        "colab": {
          "base_uri": "https://localhost:8080/",
          "height": 201
        },
        "id": "07z7YzZGWrB6",
        "outputId": "15055c37-8e9f-419b-9d1e-763ac1a790b5"
      },
      "source": [
        "fig, ax = plt.subplots()\n",
        "fig.set_size_inches(3,3)\n",
        "im = ax.imshow(x_train[11])\n",
        "plt.colorbar(im)\n",
        "\n",
        "plt.show()"
      ],
      "execution_count": 3,
      "outputs": [
        {
          "output_type": "display_data",
          "data": {
            "image/png": "[encoded data removed]",
            "text/plain": [
              "<Figure size 216x216 with 2 Axes>"
            ]
          },
          "metadata": {
            "needs_background": "light"
          }
        }
      ]
    },
    {
      "cell_type": "code",
      "metadata": {
        "colab": {
          "base_uri": "https://localhost:8080/"
        },
        "id": "2baPJSxOXAg6",
        "outputId": "3c130f7a-f65e-444d-cd7f-cd534edf1ce2"
      },
      "source": [
        "y_train[11]"
      ],
      "execution_count": 4,
      "outputs": [
        {
          "output_type": "execute_result",
          "data": {
            "text/plain": [
              "array([7], dtype=uint8)"
            ]
          },
          "metadata": {},
          "execution_count": 4
        }
      ]
    },
    {
      "cell_type": "code",
      "metadata": {
        "colab": {
          "base_uri": "https://localhost:8080/"
        },
        "id": "gwG_C_zQYMbx",
        "outputId": "6fc682bf-23c5-452d-fe51-9b25c6ccb2b4"
      },
      "source": [
        "x_train.shape"
      ],
      "execution_count": 5,
      "outputs": [
        {
          "output_type": "execute_result",
          "data": {
            "text/plain": [
              "(50000, 32, 32, 3)"
            ]
          },
          "metadata": {},
          "execution_count": 5
        }
      ]
    },
    {
      "cell_type": "code",
      "metadata": {
        "id": "v6B9CnVYZQGe"
      },
      "source": [
        "from tensorflow.keras.utils import to_categorical\n",
        "y_train = to_categorical(y_train)"
      ],
      "execution_count": 6,
      "outputs": []
    },
    {
      "cell_type": "code",
      "metadata": {
        "id": "iK-yGAD0ZXNd"
      },
      "source": [
        "x_train=x_train/255.0\n",
        "x_test=x_test/255.0"
      ],
      "execution_count": 7,
      "outputs": []
    },
    {
      "cell_type": "code",
      "metadata": {
        "id": "4PesvjbkZ3WA"
      },
      "source": [
        "y_test = to_categorical(y_test)"
      ],
      "execution_count": 8,
      "outputs": []
    },
    {
      "cell_type": "code",
      "metadata": {
        "colab": {
          "base_uri": "https://localhost:8080/"
        },
        "id": "U131VGQ7aGkN",
        "outputId": "46eb1bda-f521-46f8-fe71-a2dc9a3bf99d"
      },
      "source": [
        "y_test.shape"
      ],
      "execution_count": 9,
      "outputs": [
        {
          "output_type": "execute_result",
          "data": {
            "text/plain": [
              "(10000, 10)"
            ]
          },
          "metadata": {},
          "execution_count": 9
        }
      ]
    },
    {
      "cell_type": "code",
      "metadata": {
        "id": "l30KowOQaOrh"
      },
      "source": [
        "model = tf.keras.models.Sequential()\n",
        "model.add(tf.keras.layers.Input(shape=(32,32,3)))\n",
        "model.add(tf.keras.layers.Conv2D(128, (5,5), activation='relu', padding='valid'))\n",
        "model.add(tf.keras.layers.MaxPool2D(pool_size=(2,2)))\n",
        "model.add(tf.keras.layers.Conv2D(256, (5,5), activation='relu', padding='valid'))\n",
        "model.add(tf.keras.layers.MaxPool2D(pool_size=(2,2)))\n",
        "model.add(tf.keras.layers.Flatten())\n",
        "model.add(tf.keras.layers.Dense(10, activation=\"softmax\"))"
      ],
      "execution_count": 10,
      "outputs": []
    },
    {
      "cell_type": "code",
      "metadata": {
        "colab": {
          "base_uri": "https://localhost:8080/"
        },
        "id": "uGpG-HrKbjNU",
        "outputId": "0186fc6e-1138-4fcc-9b99-d1ab3976b7d7"
      },
      "source": [
        "model.summary()"
      ],
      "execution_count": 11,
      "outputs": [
        {
          "output_type": "stream",
          "name": "stdout",
          "text": [
            "Model: \"sequential\"\n",
            "_________________________________________________________________\n",
            "Layer (type)                 Output Shape              Param #   \n",
            "=================================================================\n",
            "conv2d (Conv2D)              (None, 28, 28, 128)       9728      \n",
            "_________________________________________________________________\n",
            "max_pooling2d (MaxPooling2D) (None, 14, 14, 128)       0         \n",
            "_________________________________________________________________\n",
            "conv2d_1 (Conv2D)            (None, 10, 10, 256)       819456    \n",
            "_________________________________________________________________\n",
            "max_pooling2d_1 (MaxPooling2 (None, 5, 5, 256)         0         \n",
            "_________________________________________________________________\n",
            "flatten (Flatten)            (None, 6400)              0         \n",
            "_________________________________________________________________\n",
            "dense (Dense)                (None, 10)                64010     \n",
            "=================================================================\n",
            "Total params: 893,194\n",
            "Trainable params: 893,194\n",
            "Non-trainable params: 0\n",
            "_________________________________________________________________\n"
          ]
        }
      ]
    },
    {
      "cell_type": "code",
      "metadata": {
        "id": "f7KpXFYlbnAQ"
      },
      "source": [
        "model.compile(loss=\"categorical_crossentropy\", optimizer=\"SGD\", metrics=[\"accuracy\"]) "
      ],
      "execution_count": 12,
      "outputs": []
    },
    {
      "cell_type": "code",
      "metadata": {
        "colab": {
          "base_uri": "https://localhost:8080/"
        },
        "id": "T4QNm43mb23H",
        "outputId": "dbf975b0-93cf-403f-f11c-529fd252200d"
      },
      "source": [
        "history = model.fit(x = x_train, y=y_train, batch_size=128,epochs=100, shuffle=True, validation_data=(x_test, y_test))"
      ],
      "execution_count": 13,
      "outputs": [
        {
          "output_type": "stream",
          "name": "stdout",
          "text": [
            "Epoch 1/100\n",
            "391/391 [==============================] - 15s 32ms/step - loss: 2.1527 - accuracy: 0.2233 - val_loss: 1.9761 - val_accuracy: 0.3033\n",
            "Epoch 2/100\n",
            "391/391 [==============================] - 12s 30ms/step - loss: 1.9170 - accuracy: 0.3207 - val_loss: 1.8418 - val_accuracy: 0.3426\n",
            "Epoch 3/100\n",
            "391/391 [==============================] - 12s 30ms/step - loss: 1.7750 - accuracy: 0.3758 - val_loss: 1.6891 - val_accuracy: 0.4081\n",
            "Epoch 4/100\n",
            "391/391 [==============================] - 12s 31ms/step - loss: 1.6544 - accuracy: 0.4179 - val_loss: 1.6255 - val_accuracy: 0.4234\n",
            "Epoch 5/100\n",
            "391/391 [==============================] - 12s 31ms/step - loss: 1.5652 - accuracy: 0.4471 - val_loss: 1.5103 - val_accuracy: 0.4652\n",
            "Epoch 6/100\n",
            "391/391 [==============================] - 12s 31ms/step - loss: 1.5029 - accuracy: 0.4717 - val_loss: 1.4625 - val_accuracy: 0.4819\n",
            "Epoch 7/100\n",
            "391/391 [==============================] - 12s 31ms/step - loss: 1.4573 - accuracy: 0.4854 - val_loss: 1.4966 - val_accuracy: 0.4769\n",
            "Epoch 8/100\n",
            "391/391 [==============================] - 12s 31ms/step - loss: 1.4219 - accuracy: 0.4999 - val_loss: 1.3873 - val_accuracy: 0.5126\n",
            "Epoch 9/100\n",
            "391/391 [==============================] - 12s 31ms/step - loss: 1.3868 - accuracy: 0.5156 - val_loss: 1.3887 - val_accuracy: 0.5066\n",
            "Epoch 10/100\n",
            "391/391 [==============================] - 12s 31ms/step - loss: 1.3515 - accuracy: 0.5274 - val_loss: 1.3561 - val_accuracy: 0.5201\n",
            "Epoch 11/100\n",
            "391/391 [==============================] - 12s 31ms/step - loss: 1.3186 - accuracy: 0.5412 - val_loss: 1.4672 - val_accuracy: 0.4754\n",
            "Epoch 12/100\n",
            "391/391 [==============================] - 12s 31ms/step - loss: 1.2919 - accuracy: 0.5491 - val_loss: 1.2898 - val_accuracy: 0.5464\n",
            "Epoch 13/100\n",
            "391/391 [==============================] - 12s 31ms/step - loss: 1.2633 - accuracy: 0.5611 - val_loss: 1.2894 - val_accuracy: 0.5359\n",
            "Epoch 14/100\n",
            "391/391 [==============================] - 12s 31ms/step - loss: 1.2391 - accuracy: 0.5699 - val_loss: 1.2374 - val_accuracy: 0.5678\n",
            "Epoch 15/100\n",
            "391/391 [==============================] - 12s 31ms/step - loss: 1.2125 - accuracy: 0.5793 - val_loss: 1.2146 - val_accuracy: 0.5751\n",
            "Epoch 16/100\n",
            "391/391 [==============================] - 12s 31ms/step - loss: 1.1885 - accuracy: 0.5883 - val_loss: 1.1872 - val_accuracy: 0.5859\n",
            "Epoch 17/100\n",
            "391/391 [==============================] - 12s 31ms/step - loss: 1.1652 - accuracy: 0.5953 - val_loss: 1.1923 - val_accuracy: 0.5872\n",
            "Epoch 18/100\n",
            "391/391 [==============================] - 12s 31ms/step - loss: 1.1442 - accuracy: 0.6049 - val_loss: 1.1705 - val_accuracy: 0.5883\n",
            "Epoch 19/100\n",
            "391/391 [==============================] - 12s 31ms/step - loss: 1.1237 - accuracy: 0.6124 - val_loss: 1.1436 - val_accuracy: 0.6052\n",
            "Epoch 20/100\n",
            "391/391 [==============================] - 12s 31ms/step - loss: 1.1058 - accuracy: 0.6179 - val_loss: 1.1596 - val_accuracy: 0.5898\n",
            "Epoch 21/100\n",
            "391/391 [==============================] - 12s 31ms/step - loss: 1.0836 - accuracy: 0.6276 - val_loss: 1.1241 - val_accuracy: 0.6063\n",
            "Epoch 22/100\n",
            "391/391 [==============================] - 12s 31ms/step - loss: 1.0666 - accuracy: 0.6323 - val_loss: 1.1409 - val_accuracy: 0.6014\n",
            "Epoch 23/100\n",
            "391/391 [==============================] - 12s 31ms/step - loss: 1.0515 - accuracy: 0.6381 - val_loss: 1.1432 - val_accuracy: 0.6054\n",
            "Epoch 24/100\n",
            "391/391 [==============================] - 12s 31ms/step - loss: 1.0333 - accuracy: 0.6452 - val_loss: 1.1364 - val_accuracy: 0.6160\n",
            "Epoch 25/100\n",
            "391/391 [==============================] - 12s 31ms/step - loss: 1.0186 - accuracy: 0.6512 - val_loss: 1.0666 - val_accuracy: 0.6349\n",
            "Epoch 26/100\n",
            "391/391 [==============================] - 12s 31ms/step - loss: 1.0024 - accuracy: 0.6559 - val_loss: 1.0791 - val_accuracy: 0.6268\n",
            "Epoch 27/100\n",
            "391/391 [==============================] - 13s 32ms/step - loss: 0.9894 - accuracy: 0.6608 - val_loss: 1.1572 - val_accuracy: 0.6031\n",
            "Epoch 28/100\n",
            "391/391 [==============================] - 12s 31ms/step - loss: 0.9754 - accuracy: 0.6653 - val_loss: 1.0502 - val_accuracy: 0.6360\n",
            "Epoch 29/100\n",
            "391/391 [==============================] - 12s 31ms/step - loss: 0.9588 - accuracy: 0.6722 - val_loss: 1.0577 - val_accuracy: 0.6349\n",
            "Epoch 30/100\n",
            "391/391 [==============================] - 12s 31ms/step - loss: 0.9470 - accuracy: 0.6767 - val_loss: 1.0311 - val_accuracy: 0.6389\n",
            "Epoch 31/100\n",
            "391/391 [==============================] - 12s 31ms/step - loss: 0.9335 - accuracy: 0.6827 - val_loss: 1.0664 - val_accuracy: 0.6261\n",
            "Epoch 32/100\n",
            "391/391 [==============================] - 12s 31ms/step - loss: 0.9226 - accuracy: 0.6853 - val_loss: 1.0282 - val_accuracy: 0.6475\n",
            "Epoch 33/100\n",
            "391/391 [==============================] - 12s 31ms/step - loss: 0.9081 - accuracy: 0.6919 - val_loss: 0.9867 - val_accuracy: 0.6657\n",
            "Epoch 34/100\n",
            "391/391 [==============================] - 12s 31ms/step - loss: 0.8958 - accuracy: 0.6946 - val_loss: 1.0044 - val_accuracy: 0.6543\n",
            "Epoch 35/100\n",
            "391/391 [==============================] - 12s 31ms/step - loss: 0.8862 - accuracy: 0.6976 - val_loss: 1.0154 - val_accuracy: 0.6539\n",
            "Epoch 36/100\n",
            "391/391 [==============================] - 12s 31ms/step - loss: 0.8757 - accuracy: 0.7053 - val_loss: 0.9733 - val_accuracy: 0.6655\n",
            "Epoch 37/100\n",
            "391/391 [==============================] - 12s 31ms/step - loss: 0.8604 - accuracy: 0.7069 - val_loss: 0.9574 - val_accuracy: 0.6716\n",
            "Epoch 38/100\n",
            "391/391 [==============================] - 12s 31ms/step - loss: 0.8507 - accuracy: 0.7127 - val_loss: 1.0238 - val_accuracy: 0.6471\n",
            "Epoch 39/100\n",
            "391/391 [==============================] - 12s 31ms/step - loss: 0.8403 - accuracy: 0.7167 - val_loss: 0.9666 - val_accuracy: 0.6696\n",
            "Epoch 40/100\n",
            "391/391 [==============================] - 12s 31ms/step - loss: 0.8292 - accuracy: 0.7203 - val_loss: 0.9421 - val_accuracy: 0.6784\n",
            "Epoch 41/100\n",
            "391/391 [==============================] - 12s 31ms/step - loss: 0.8207 - accuracy: 0.7220 - val_loss: 0.9430 - val_accuracy: 0.6793\n",
            "Epoch 42/100\n",
            "391/391 [==============================] - 12s 31ms/step - loss: 0.8069 - accuracy: 0.7279 - val_loss: 0.9497 - val_accuracy: 0.6734\n",
            "Epoch 43/100\n",
            "391/391 [==============================] - 12s 31ms/step - loss: 0.8005 - accuracy: 0.7291 - val_loss: 0.9446 - val_accuracy: 0.6769\n",
            "Epoch 44/100\n",
            "391/391 [==============================] - 12s 31ms/step - loss: 0.7879 - accuracy: 0.7340 - val_loss: 0.9312 - val_accuracy: 0.6840\n",
            "Epoch 45/100\n",
            "391/391 [==============================] - 12s 31ms/step - loss: 0.7777 - accuracy: 0.7378 - val_loss: 0.9352 - val_accuracy: 0.6778\n",
            "Epoch 46/100\n",
            "391/391 [==============================] - 12s 31ms/step - loss: 0.7699 - accuracy: 0.7397 - val_loss: 0.9180 - val_accuracy: 0.6881\n",
            "Epoch 47/100\n",
            "391/391 [==============================] - 12s 31ms/step - loss: 0.7603 - accuracy: 0.7427 - val_loss: 0.9393 - val_accuracy: 0.6797\n",
            "Epoch 48/100\n",
            "391/391 [==============================] - 12s 31ms/step - loss: 0.7518 - accuracy: 0.7452 - val_loss: 0.9529 - val_accuracy: 0.6752\n",
            "Epoch 49/100\n",
            "391/391 [==============================] - 12s 31ms/step - loss: 0.7405 - accuracy: 0.7505 - val_loss: 0.9322 - val_accuracy: 0.6831\n",
            "Epoch 50/100\n",
            "391/391 [==============================] - 12s 31ms/step - loss: 0.7317 - accuracy: 0.7546 - val_loss: 0.9784 - val_accuracy: 0.6642\n",
            "Epoch 51/100\n",
            "391/391 [==============================] - 12s 31ms/step - loss: 0.7225 - accuracy: 0.7562 - val_loss: 0.8953 - val_accuracy: 0.6962\n",
            "Epoch 52/100\n",
            "391/391 [==============================] - 12s 31ms/step - loss: 0.7135 - accuracy: 0.7595 - val_loss: 0.9130 - val_accuracy: 0.6879\n",
            "Epoch 53/100\n",
            "391/391 [==============================] - 12s 31ms/step - loss: 0.7033 - accuracy: 0.7638 - val_loss: 0.9716 - val_accuracy: 0.6687\n",
            "Epoch 54/100\n",
            "391/391 [==============================] - 12s 31ms/step - loss: 0.6929 - accuracy: 0.7677 - val_loss: 0.9020 - val_accuracy: 0.6961\n",
            "Epoch 55/100\n",
            "391/391 [==============================] - 12s 31ms/step - loss: 0.6902 - accuracy: 0.7674 - val_loss: 0.9188 - val_accuracy: 0.6908\n",
            "Epoch 56/100\n",
            "391/391 [==============================] - 12s 31ms/step - loss: 0.6771 - accuracy: 0.7724 - val_loss: 0.9694 - val_accuracy: 0.6678\n",
            "Epoch 57/100\n",
            "391/391 [==============================] - 12s 31ms/step - loss: 0.6688 - accuracy: 0.7771 - val_loss: 0.8877 - val_accuracy: 0.7025\n",
            "Epoch 58/100\n",
            "391/391 [==============================] - 12s 31ms/step - loss: 0.6612 - accuracy: 0.7762 - val_loss: 0.9979 - val_accuracy: 0.6717\n",
            "Epoch 59/100\n",
            "391/391 [==============================] - 12s 31ms/step - loss: 0.6544 - accuracy: 0.7813 - val_loss: 0.9215 - val_accuracy: 0.6863\n",
            "Epoch 60/100\n",
            "391/391 [==============================] - 12s 31ms/step - loss: 0.6454 - accuracy: 0.7838 - val_loss: 0.9013 - val_accuracy: 0.6970\n",
            "Epoch 61/100\n",
            "391/391 [==============================] - 12s 31ms/step - loss: 0.6343 - accuracy: 0.7882 - val_loss: 0.9293 - val_accuracy: 0.6876\n",
            "Epoch 62/100\n",
            "391/391 [==============================] - 12s 31ms/step - loss: 0.6281 - accuracy: 0.7906 - val_loss: 0.8852 - val_accuracy: 0.7022\n",
            "Epoch 63/100\n",
            "391/391 [==============================] - 12s 31ms/step - loss: 0.6219 - accuracy: 0.7926 - val_loss: 0.8856 - val_accuracy: 0.7026\n",
            "Epoch 64/100\n",
            "391/391 [==============================] - 12s 31ms/step - loss: 0.6106 - accuracy: 0.7966 - val_loss: 0.9034 - val_accuracy: 0.6969\n",
            "Epoch 65/100\n",
            "391/391 [==============================] - 12s 31ms/step - loss: 0.6023 - accuracy: 0.7997 - val_loss: 0.9324 - val_accuracy: 0.6881\n",
            "Epoch 66/100\n",
            "391/391 [==============================] - 12s 31ms/step - loss: 0.5966 - accuracy: 0.8011 - val_loss: 0.8799 - val_accuracy: 0.7063\n",
            "Epoch 67/100\n",
            "391/391 [==============================] - 12s 31ms/step - loss: 0.5853 - accuracy: 0.8074 - val_loss: 0.9150 - val_accuracy: 0.6906\n",
            "Epoch 68/100\n",
            "391/391 [==============================] - 12s 31ms/step - loss: 0.5780 - accuracy: 0.8073 - val_loss: 0.8987 - val_accuracy: 0.7013\n",
            "Epoch 69/100\n",
            "391/391 [==============================] - 12s 31ms/step - loss: 0.5686 - accuracy: 0.8105 - val_loss: 0.9426 - val_accuracy: 0.6869\n",
            "Epoch 70/100\n",
            "391/391 [==============================] - 12s 31ms/step - loss: 0.5648 - accuracy: 0.8111 - val_loss: 0.9054 - val_accuracy: 0.7018\n",
            "Epoch 71/100\n",
            "391/391 [==============================] - 12s 31ms/step - loss: 0.5569 - accuracy: 0.8149 - val_loss: 0.9138 - val_accuracy: 0.6974\n",
            "Epoch 72/100\n",
            "391/391 [==============================] - 12s 31ms/step - loss: 0.5514 - accuracy: 0.8168 - val_loss: 0.9112 - val_accuracy: 0.7005\n",
            "Epoch 73/100\n",
            "391/391 [==============================] - 12s 31ms/step - loss: 0.5415 - accuracy: 0.8217 - val_loss: 0.9467 - val_accuracy: 0.6894\n",
            "Epoch 74/100\n",
            "391/391 [==============================] - 12s 31ms/step - loss: 0.5318 - accuracy: 0.8234 - val_loss: 0.9198 - val_accuracy: 0.6958\n",
            "Epoch 75/100\n",
            "391/391 [==============================] - 12s 31ms/step - loss: 0.5269 - accuracy: 0.8267 - val_loss: 0.9398 - val_accuracy: 0.6883\n",
            "Epoch 76/100\n",
            "391/391 [==============================] - 12s 31ms/step - loss: 0.5178 - accuracy: 0.8296 - val_loss: 0.9059 - val_accuracy: 0.6995\n",
            "Epoch 77/100\n",
            "391/391 [==============================] - 12s 31ms/step - loss: 0.5090 - accuracy: 0.8325 - val_loss: 0.8888 - val_accuracy: 0.7114\n",
            "Epoch 78/100\n",
            "391/391 [==============================] - 12s 31ms/step - loss: 0.5039 - accuracy: 0.8329 - val_loss: 0.9305 - val_accuracy: 0.6966\n",
            "Epoch 79/100\n",
            "391/391 [==============================] - 12s 31ms/step - loss: 0.4960 - accuracy: 0.8368 - val_loss: 0.9050 - val_accuracy: 0.7011\n",
            "Epoch 80/100\n",
            "391/391 [==============================] - 12s 31ms/step - loss: 0.4885 - accuracy: 0.8399 - val_loss: 0.9155 - val_accuracy: 0.7049\n",
            "Epoch 81/100\n",
            "391/391 [==============================] - 12s 31ms/step - loss: 0.4813 - accuracy: 0.8412 - val_loss: 0.9301 - val_accuracy: 0.6925\n",
            "Epoch 82/100\n",
            "391/391 [==============================] - 12s 31ms/step - loss: 0.4733 - accuracy: 0.8450 - val_loss: 0.9478 - val_accuracy: 0.6947\n",
            "Epoch 83/100\n",
            "391/391 [==============================] - 12s 31ms/step - loss: 0.4695 - accuracy: 0.8452 - val_loss: 0.8945 - val_accuracy: 0.7071\n",
            "Epoch 84/100\n",
            "391/391 [==============================] - 12s 31ms/step - loss: 0.4627 - accuracy: 0.8490 - val_loss: 0.8976 - val_accuracy: 0.7079\n",
            "Epoch 85/100\n",
            "391/391 [==============================] - 12s 31ms/step - loss: 0.4521 - accuracy: 0.8515 - val_loss: 0.9649 - val_accuracy: 0.6900\n",
            "Epoch 86/100\n",
            "391/391 [==============================] - 12s 31ms/step - loss: 0.4499 - accuracy: 0.8532 - val_loss: 0.9423 - val_accuracy: 0.6987\n",
            "Epoch 87/100\n",
            "391/391 [==============================] - 12s 31ms/step - loss: 0.4380 - accuracy: 0.8579 - val_loss: 0.9387 - val_accuracy: 0.7039\n",
            "Epoch 88/100\n",
            "391/391 [==============================] - 12s 31ms/step - loss: 0.4314 - accuracy: 0.8588 - val_loss: 0.9603 - val_accuracy: 0.6934\n",
            "Epoch 89/100\n",
            "391/391 [==============================] - 12s 31ms/step - loss: 0.4254 - accuracy: 0.8618 - val_loss: 0.8934 - val_accuracy: 0.7113\n",
            "Epoch 90/100\n",
            "391/391 [==============================] - 12s 31ms/step - loss: 0.4193 - accuracy: 0.8653 - val_loss: 0.9352 - val_accuracy: 0.7022\n",
            "Epoch 91/100\n",
            "391/391 [==============================] - 12s 31ms/step - loss: 0.4119 - accuracy: 0.8680 - val_loss: 0.9829 - val_accuracy: 0.6989\n",
            "Epoch 92/100\n",
            "391/391 [==============================] - 12s 31ms/step - loss: 0.4088 - accuracy: 0.8680 - val_loss: 0.9205 - val_accuracy: 0.7068\n",
            "Epoch 93/100\n",
            "391/391 [==============================] - 12s 31ms/step - loss: 0.3976 - accuracy: 0.8720 - val_loss: 0.9556 - val_accuracy: 0.6961\n",
            "Epoch 94/100\n",
            "391/391 [==============================] - 12s 31ms/step - loss: 0.3909 - accuracy: 0.8755 - val_loss: 0.9261 - val_accuracy: 0.7096\n",
            "Epoch 95/100\n",
            "391/391 [==============================] - 12s 31ms/step - loss: 0.3887 - accuracy: 0.8753 - val_loss: 0.9670 - val_accuracy: 0.6958\n",
            "Epoch 96/100\n",
            "391/391 [==============================] - 12s 31ms/step - loss: 0.3835 - accuracy: 0.8769 - val_loss: 0.9938 - val_accuracy: 0.6918\n",
            "Epoch 97/100\n",
            "391/391 [==============================] - 12s 31ms/step - loss: 0.3718 - accuracy: 0.8820 - val_loss: 0.9500 - val_accuracy: 0.7031\n",
            "Epoch 98/100\n",
            "391/391 [==============================] - 12s 31ms/step - loss: 0.3671 - accuracy: 0.8822 - val_loss: 0.9728 - val_accuracy: 0.6946\n",
            "Epoch 99/100\n",
            "391/391 [==============================] - 12s 31ms/step - loss: 0.3589 - accuracy: 0.8868 - val_loss: 0.9653 - val_accuracy: 0.6995\n",
            "Epoch 100/100\n",
            "391/391 [==============================] - 13s 32ms/step - loss: 0.3541 - accuracy: 0.8866 - val_loss: 0.9729 - val_accuracy: 0.7002\n"
          ]
        }
      ]
    },
    {
      "cell_type": "code",
      "metadata": {
        "colab": {
          "base_uri": "https://localhost:8080/",
          "height": 265
        },
        "id": "AZ5dUGaOcgqu",
        "outputId": "c68c5e9e-6547-4ad6-f023-0255d6504d30"
      },
      "source": [
        "plt.plot(history.history['loss'], 'r')\n",
        "plt.plot(history.history['val_loss'])\n",
        "plt.yscale(\"log\")"
      ],
      "execution_count": 14,
      "outputs": [
        {
          "output_type": "display_data",
          "data": {
            "image/png": "[encoded data removed]",
            "text/plain": [
              "<Figure size 432x288 with 1 Axes>"
            ]
          },
          "metadata": {
            "needs_background": "light"
          }
        }
      ]
    },
    {
      "cell_type": "code",
      "metadata": {
        "colab": {
          "base_uri": "https://localhost:8080/"
        },
        "id": "Nh1XhXy5e9vy",
        "outputId": "39cfc78f-18f4-41c8-dac8-26c8e904249f"
      },
      "source": [
        "np.argmax(model.predict(x_test[4][None]))"
      ],
      "execution_count": 15,
      "outputs": [
        {
          "output_type": "execute_result",
          "data": {
            "text/plain": [
              "4"
            ]
          },
          "metadata": {},
          "execution_count": 15
        }
      ]
    },
    {
      "cell_type": "code",
      "metadata": {
        "colab": {
          "base_uri": "https://localhost:8080/",
          "height": 147
        },
        "id": "0azOs82Jf0_G",
        "outputId": "32b28082-a71b-480b-d33c-32f2a4fa2a85"
      },
      "source": [
        "fig, ax = plt.subplots()\n",
        "fig.set_size_inches(2,2)\n",
        "im = ax.imshow(x_train[4])\n",
        "plt.colorbar(im)\n",
        "\n",
        "plt.show()"
      ],
      "execution_count": 16,
      "outputs": [
        {
          "output_type": "display_data",
          "data": {
            "image/png": "[encoded data removed]",
            "text/plain": [
              "<Figure size 144x144 with 2 Axes>"
            ]
          },
          "metadata": {
            "needs_background": "light"
          }
        }
      ]
    },
    {
      "cell_type": "code",
      "metadata": {
        "id": "IPYdPl0-f7UR"
      },
      "source": [
        ""
      ],
      "execution_count": 16,
      "outputs": []
    }
  ]
}