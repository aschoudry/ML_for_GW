{
  "nbformat": 4,
  "nbformat_minor": 0,
  "metadata": {
    "colab": {
      "name": "pycbc_generate_cwt.ipynb",
      "provenance": [],
      "collapsed_sections": [],
      "authorship_tag": "ABX9TyPoEGvuODzE1l+fkq1XQBRu",
      "include_colab_link": true
    },
    "kernelspec": {
      "name": "python3",
      "display_name": "Python 3"
    },
    "language_info": {
      "name": "python"
    }
  },
  "cells": [
    {
      "cell_type": "markdown",
      "metadata": {
        "id": "view-in-github",
        "colab_type": "text"
      },
      "source": [
        "<a href=\"https://colab.research.google.com/github/aschoudry/ML_imageClassifier/blob/main/pycbc_generate_cwt.ipynb\" target=\"_parent\"><img src=\"https://colab.research.google.com/assets/colab-badge.svg\" alt=\"Open In Colab\"/></a>"
      ]
    },
    {
      "cell_type": "code",
      "metadata": {
        "colab": {
          "base_uri": "https://localhost:8080/"
        },
        "id": "xuEvVprJWfqj",
        "outputId": "b46f5c92-6ac6-4623-bae1-3900eb703caa"
      },
      "source": [
        "!pip install pycbc\n",
        "import numpy as np\n",
        "import pycbc\n",
        "import matplotlib.pyplot as plt\n",
        "from matplotlib.colors import Normalize\n",
        "%matplotlib inline\n",
        "from pycbc.waveform import td_approximants, fd_approximants, get_td_waveform\n",
        "from pycbc.detector import Detector\n",
        "import cv2\n",
        "from scipy.interpolate import interp1d\n",
        "import pywt\n"
      ],
      "execution_count": 1,
      "outputs": [
        {
          "output_type": "stream",
          "name": "stdout",
          "text": [
            "Collecting pycbc\n",
            "  Downloading PyCBC-1.18.3-cp37-cp37m-manylinux2010_x86_64.whl (6.7 MB)\n",
            "\u001b[K     |████████████████████████████████| 6.7 MB 12.6 MB/s \n",
            "\u001b[?25hRequirement already satisfied: numpy>=1.16.0 in /usr/local/lib/python3.7/dist-packages (from pycbc) (1.19.5)\n",
            "Collecting ligo-segments\n",
            "  Downloading ligo-segments-1.3.0.tar.gz (52 kB)\n",
            "\u001b[K     |████████████████████████████████| 52 kB 786 kB/s \n",
            "\u001b[?25hCollecting Mako>=1.0.1\n",
            "  Downloading Mako-1.1.5-py2.py3-none-any.whl (75 kB)\n",
            "\u001b[K     |████████████████████████████████| 75 kB 4.6 MB/s \n",
            "\u001b[?25hRequirement already satisfied: pillow in /usr/local/lib/python3.7/dist-packages (from pycbc) (7.1.2)\n",
            "Collecting gwdatafind\n",
            "  Downloading gwdatafind-1.0.4-py2.py3-none-any.whl (38 kB)\n",
            "Requirement already satisfied: scipy>=0.16.0 in /usr/local/lib/python3.7/dist-packages (from pycbc) (1.4.1)\n",
            "Requirement already satisfied: requests>=1.2.1 in /usr/local/lib/python3.7/dist-packages (from pycbc) (2.23.0)\n",
            "Requirement already satisfied: astropy!=4.0.5,!=4.2.1,>=2.0.3 in /usr/local/lib/python3.7/dist-packages (from pycbc) (4.3.1)\n",
            "Requirement already satisfied: cython>=0.29 in /usr/local/lib/python3.7/dist-packages (from pycbc) (0.29.24)\n",
            "Requirement already satisfied: tqdm in /usr/local/lib/python3.7/dist-packages (from pycbc) (4.62.3)\n",
            "Requirement already satisfied: matplotlib>=1.5.1 in /usr/local/lib/python3.7/dist-packages (from pycbc) (3.2.2)\n",
            "Requirement already satisfied: six>=1.10.0 in /usr/local/lib/python3.7/dist-packages (from pycbc) (1.15.0)\n",
            "Collecting lscsoft-glue>=1.59.3\n",
            "  Downloading lscsoft-glue-2.0.0.tar.gz (1.6 MB)\n",
            "\u001b[K     |████████████████████████████████| 1.6 MB 62.6 MB/s \n",
            "\u001b[?25hRequirement already satisfied: beautifulsoup4>=4.6.0 in /usr/local/lib/python3.7/dist-packages (from pycbc) (4.6.3)\n",
            "Requirement already satisfied: h5py>=2.5 in /usr/local/lib/python3.7/dist-packages (from pycbc) (3.1.0)\n",
            "Collecting lalsuite\n",
            "  Downloading lalsuite-7.0-cp37-cp37m-manylinux_2_17_x86_64.manylinux2014_x86_64.whl (27.6 MB)\n",
            "\u001b[K     |████████████████████████████████| 27.6 MB 88 kB/s \n",
            "\u001b[?25hRequirement already satisfied: jinja2 in /usr/local/lib/python3.7/dist-packages (from pycbc) (2.11.3)\n",
            "Collecting mpld3>=0.3\n",
            "  Downloading mpld3-0.5.5.tar.gz (1.0 MB)\n",
            "\u001b[K     |████████████████████████████████| 1.0 MB 57.7 MB/s \n",
            "\u001b[?25hRequirement already satisfied: decorator>=3.4.2 in /usr/local/lib/python3.7/dist-packages (from pycbc) (4.4.2)\n",
            "Requirement already satisfied: pyerfa>=1.7.3 in /usr/local/lib/python3.7/dist-packages (from astropy!=4.0.5,!=4.2.1,>=2.0.3->pycbc) (2.0.0)\n",
            "Requirement already satisfied: importlib-metadata in /usr/local/lib/python3.7/dist-packages (from astropy!=4.0.5,!=4.2.1,>=2.0.3->pycbc) (4.8.1)\n",
            "Requirement already satisfied: cached-property in /usr/local/lib/python3.7/dist-packages (from h5py>=2.5->pycbc) (1.5.2)\n",
            "Collecting pyOpenSSL\n",
            "  Downloading pyOpenSSL-21.0.0-py2.py3-none-any.whl (55 kB)\n",
            "\u001b[K     |████████████████████████████████| 55 kB 2.9 MB/s \n",
            "\u001b[?25hRequirement already satisfied: MarkupSafe>=0.9.2 in /usr/local/lib/python3.7/dist-packages (from Mako>=1.0.1->pycbc) (2.0.1)\n",
            "Requirement already satisfied: kiwisolver>=1.0.1 in /usr/local/lib/python3.7/dist-packages (from matplotlib>=1.5.1->pycbc) (1.3.2)\n",
            "Requirement already satisfied: cycler>=0.10 in /usr/local/lib/python3.7/dist-packages (from matplotlib>=1.5.1->pycbc) (0.10.0)\n",
            "Requirement already satisfied: pyparsing!=2.0.4,!=2.1.2,!=2.1.6,>=2.0.1 in /usr/local/lib/python3.7/dist-packages (from matplotlib>=1.5.1->pycbc) (2.4.7)\n",
            "Requirement already satisfied: python-dateutil>=2.1 in /usr/local/lib/python3.7/dist-packages (from matplotlib>=1.5.1->pycbc) (2.8.2)\n",
            "Requirement already satisfied: idna<3,>=2.5 in /usr/local/lib/python3.7/dist-packages (from requests>=1.2.1->pycbc) (2.10)\n",
            "Requirement already satisfied: certifi>=2017.4.17 in /usr/local/lib/python3.7/dist-packages (from requests>=1.2.1->pycbc) (2021.5.30)\n",
            "Requirement already satisfied: urllib3!=1.25.0,!=1.25.1,<1.26,>=1.21.1 in /usr/local/lib/python3.7/dist-packages (from requests>=1.2.1->pycbc) (1.24.3)\n",
            "Requirement already satisfied: chardet<4,>=3.0.2 in /usr/local/lib/python3.7/dist-packages (from requests>=1.2.1->pycbc) (3.0.4)\n",
            "Requirement already satisfied: typing-extensions>=3.6.4 in /usr/local/lib/python3.7/dist-packages (from importlib-metadata->astropy!=4.0.5,!=4.2.1,>=2.0.3->pycbc) (3.7.4.3)\n",
            "Requirement already satisfied: zipp>=0.5 in /usr/local/lib/python3.7/dist-packages (from importlib-metadata->astropy!=4.0.5,!=4.2.1,>=2.0.3->pycbc) (3.6.0)\n",
            "Collecting cryptography>=3.3\n",
            "  Downloading cryptography-35.0.0-cp36-abi3-manylinux_2_24_x86_64.whl (3.5 MB)\n",
            "\u001b[K     |████████████████████████████████| 3.5 MB 60.9 MB/s \n",
            "\u001b[?25hRequirement already satisfied: cffi>=1.12 in /usr/local/lib/python3.7/dist-packages (from cryptography>=3.3->pyOpenSSL->lscsoft-glue>=1.59.3->pycbc) (1.14.6)\n",
            "Requirement already satisfied: pycparser in /usr/local/lib/python3.7/dist-packages (from cffi>=1.12->cryptography>=3.3->pyOpenSSL->lscsoft-glue>=1.59.3->pycbc) (2.20)\n",
            "Building wheels for collected packages: lscsoft-glue, mpld3, ligo-segments\n",
            "  Building wheel for lscsoft-glue (setup.py) ... \u001b[?25l\u001b[?25hdone\n",
            "  Created wheel for lscsoft-glue: filename=lscsoft_glue-2.0.0-cp37-cp37m-linux_x86_64.whl size=416867 sha256=f0e668156ff0c7abbb0edb495ad25e951222fd0459ae116abf01d0d7f126967d\n",
            "  Stored in directory: /root/.cache/pip/wheels/9d/ed/9e/1f9cad5e15359dc17954b893dd486760b5cb1ffd97a8405d1e\n",
            "  Building wheel for mpld3 (setup.py) ... \u001b[?25l\u001b[?25hdone\n",
            "  Created wheel for mpld3: filename=mpld3-0.5.5-py3-none-any.whl size=200907 sha256=0bc84762755e078655eec53bd27a5ab398558d689d18ed061d64ad758af3241c\n",
            "  Stored in directory: /root/.cache/pip/wheels/3b/f3/08/a11447ac4ea31d7603142e76b4cba9e48b2fa7d82b76b69731\n",
            "  Building wheel for ligo-segments (setup.py) ... \u001b[?25l\u001b[?25hdone\n",
            "  Created wheel for ligo-segments: filename=ligo_segments-1.3.0-cp37-cp37m-linux_x86_64.whl size=86033 sha256=6fee74356b08b9adf0f00eec7cf82da68aa76b8af41cab65c91df975b99433e4\n",
            "  Stored in directory: /root/.cache/pip/wheels/b7/cc/08/d877a20dafb946a7cf821c6d1a2895f1e227a54cef891c14d8\n",
            "Successfully built lscsoft-glue mpld3 ligo-segments\n",
            "Installing collected packages: cryptography, pyOpenSSL, ligo-segments, lscsoft-glue, mpld3, Mako, lalsuite, gwdatafind, pycbc\n",
            "Successfully installed Mako-1.1.5 cryptography-35.0.0 gwdatafind-1.0.4 lalsuite-7.0 ligo-segments-1.3.0 lscsoft-glue-2.0.0 mpld3-0.5.5 pyOpenSSL-21.0.0 pycbc-1.18.3\n"
          ]
        }
      ]
    },
    {
      "cell_type": "code",
      "metadata": {
        "colab": {
          "base_uri": "https://localhost:8080/"
        },
        "id": "AIJ9N2rOWsa7",
        "outputId": "b20096f0-e47b-437e-b7c1-27b4f01d21a9"
      },
      "source": [
        "from google.colab import drive\n",
        "drive.mount('/content/gdrive')"
      ],
      "execution_count": 6,
      "outputs": [
        {
          "output_type": "stream",
          "name": "stdout",
          "text": [
            "Drive already mounted at /content/gdrive; to attempt to forcibly remount, call drive.mount(\"/content/gdrive\", force_remount=True).\n"
          ]
        }
      ]
    },
    {
      "cell_type": "code",
      "metadata": {
        "id": "Q_xOX8i1WtFe"
      },
      "source": [
        "from PIL import Image"
      ],
      "execution_count": 7,
      "outputs": []
    },
    {
      "cell_type": "code",
      "metadata": {
        "id": "wP6BwyDSWxCB"
      },
      "source": [
        "np.random.seed(1)\n",
        "\n",
        "#Define the Detectors\n",
        "det_h1 = Detector('H1')\n",
        "det_l1 = Detector('L1')\n",
        "det_v1 = Detector('V1')\n",
        "\n",
        "m_vec_train = np.random.uniform(10, 100, 1500)\n",
        "\n",
        "\n",
        "for n in m_vec_train:\n",
        "    #Define the GW params\n",
        "    gwapprox = 'SEOBNRv4'\n",
        "    #print(gwapprox)\n",
        "    hp, hc = get_td_waveform(approximant=gwapprox,\n",
        "                             mass1=n,\n",
        "                             mass2=n,\n",
        "                             delta_t=1.0/4096,\n",
        "                             spin1z=0.0,\n",
        "                             spin2z=0.0,\n",
        "                             inclination= 2 * np.pi,\n",
        "                             coa_phase= 2 * np.pi,\n",
        "                             phase_order = 0,\n",
        "                             f_lower=20.0,\n",
        "                             distance=100,\n",
        "                            )\n",
        "\n",
        "    \n",
        "    # Choose a GPS end time, sky location, and polarization phase for the merger\n",
        "    # NOTE: Right ascension and polarization phase runs from 0 to 2pi\n",
        "    #       Declination runs from pi/2. to -pi/2 with the poles at pi/2. and -pi/2.\n",
        "    end_time = 1192529720 #+ np.random.randint(1192529720//100000)\n",
        "    declination = 0*np.pi * np.random.rand() - np.pi/2\n",
        "    right_ascension = 2 * np.pi #* np.random.rand()\n",
        "    polarization = 2 * np.pi # * np.random.rand()\n",
        "    hp.start_time += end_time\n",
        "    hc.start_time += end_time\n",
        "\n",
        "    signal_h1 = det_h1.project_wave(hp, hc,  right_ascension, declination, polarization)\n",
        "    signal_l1 = det_l1.project_wave(hp, hc,  right_ascension, declination, polarization)\n",
        "    signal_v1 = det_v1.project_wave(hp, hc,  right_ascension, declination, polarization)    \n",
        "    minlen = np.min( [len(signal_h1), len(signal_l1), len(signal_v1)] )\n",
        "    data = np.stack( (signal_h1[:minlen], signal_l1[:minlen], signal_v1[:minlen]),  ) * 1e19\n",
        "    #print(data.shape)\n",
        "    \n",
        "    if data.shape[1]>4096:\n",
        "        data = data[:,data.shape[1]-4096:]\n",
        "        for N in range(80):\n",
        "            data[:,N] *= 1./(N+1)\n",
        "    \n",
        "    if len(hp)<4096:\n",
        "        for N in range(80):\n",
        "            data[:,N] *= 1./(N+1)\n",
        "        data = np.pad(data, ((0,0),(4096-data.shape[1],0)) )\n",
        "\n",
        "    cwt, freqs = pywt.cwt(data, scales=np.arange(1, 95, 0.62), wavelet='cmor1.5-0.95', sampling_period=1/2048, method='fft')\n",
        "    cwt = cwt.transpose(0,2,1)\n",
        "  \n",
        "    cwt = np.log1p( np.abs(cwt) )\n",
        "    \n",
        "    cwt = cv2.resize(cwt,(256, 256)) \n",
        "    cwt -= cwt.min()\n",
        "    cwt /= cwt.max()\n",
        "    cwt=cwt*255\n",
        "    cwt = cwt.astype(np.uint8)\n",
        "    \n",
        "    im = Image.fromarray(cwt, 'RGB')\n",
        "    im.save('/content/gdrive/MyDrive/pycbc_image_data/train_m_'+str(n)+'_.png')\n",
        "    \n",
        "    "
      ],
      "execution_count": null,
      "outputs": []
    },
    {
      "cell_type": "code",
      "metadata": {
        "id": "C5w_iUqRYnSj"
      },
      "source": [
        "m_vec_test = np.random.uniform(10, 100, 200)\n",
        "\n",
        "for n in m_vec_test:\n",
        "    #Define the GW params\n",
        "    gwapprox = 'SEOBNRv4'\n",
        "    #print(gwapprox)\n",
        "    hp, hc = get_td_waveform(approximant=gwapprox,\n",
        "                             mass1=n,\n",
        "                             mass2=n,\n",
        "                             delta_t=1.0/4096,\n",
        "                             spin1z=0.0,\n",
        "                             spin2z=0.0,\n",
        "                             inclination= 2 * np.pi,\n",
        "                             coa_phase= 2 * np.pi,\n",
        "                             phase_order = 0,\n",
        "                             f_lower=20.0,\n",
        "                             distance=100,\n",
        "                            )\n",
        "\n",
        "    \n",
        "    # Choose a GPS end time, sky location, and polarization phase for the merger\n",
        "    # NOTE: Right ascension and polarization phase runs from 0 to 2pi\n",
        "    #       Declination runs from pi/2. to -pi/2 with the poles at pi/2. and -pi/2.\n",
        "    end_time = 1192529720 #+ np.random.randint(1192529720//100000)\n",
        "    declination = 0*np.pi * np.random.rand() - np.pi/2\n",
        "    right_ascension = 2 * np.pi #* np.random.rand()\n",
        "    polarization = 2 * np.pi # * np.random.rand()\n",
        "    hp.start_time += end_time\n",
        "    hc.start_time += end_time\n",
        "\n",
        "    signal_h1 = det_h1.project_wave(hp, hc,  right_ascension, declination, polarization)\n",
        "    signal_l1 = det_l1.project_wave(hp, hc,  right_ascension, declination, polarization)\n",
        "    signal_v1 = det_v1.project_wave(hp, hc,  right_ascension, declination, polarization)    \n",
        "    minlen = np.min( [len(signal_h1), len(signal_l1), len(signal_v1)] )\n",
        "    data = np.stack( (signal_h1[:minlen], signal_l1[:minlen], signal_v1[:minlen]),  ) * 1e19\n",
        "    #print(data.shape)\n",
        "    \n",
        "    if data.shape[1]>4096:\n",
        "        data = data[:,data.shape[1]-4096:]\n",
        "        for N in range(80):\n",
        "            data[:,N] *= 1./(N+1)\n",
        "    \n",
        "    if len(hp)<4096:\n",
        "        for N in range(80):\n",
        "            data[:,N] *= 1./(N+1)\n",
        "        data = np.pad(data, ((0,0),(4096-data.shape[1],0)) )\n",
        "\n",
        "    cwt, freqs = pywt.cwt(data, scales=np.arange(1, 95, 0.62), wavelet='cmor1.5-0.95', sampling_period=1/2048, method='fft')\n",
        "    cwt = cwt.transpose(0,2,1)\n",
        "  \n",
        "    cwt = np.log1p( np.abs(cwt) )\n",
        "    \n",
        "    cwt = cv2.resize(cwt,(256, 256)) \n",
        "    cwt -= cwt.min()\n",
        "    cwt /= cwt.max()\n",
        "    cwt=cwt*255\n",
        "    cwt = cwt.astype(np.uint8)\n",
        "    \n",
        "    im = Image.fromarray(cwt, 'RGB')\n",
        "    im.save('/content/gdrive/MyDrive/pycbc_image_data/test_m_'+str(n)+'_.png')"
      ],
      "execution_count": null,
      "outputs": []
    },
    {
      "cell_type": "code",
      "metadata": {
        "id": "-K-hR86DeoIq"
      },
      "source": [
        ""
      ],
      "execution_count": null,
      "outputs": []
    }
  ]
}