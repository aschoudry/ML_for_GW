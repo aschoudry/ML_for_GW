{
  "nbformat": 4,
  "nbformat_minor": 0,
  "metadata": {
    "colab": {
      "name": "CNN_pycbcTrnsferLrn.ipynb",
      "provenance": [],
      "authorship_tag": "ABX9TyO6BYSfbiISIMU7wBhSFPca",
      "include_colab_link": true
    },
    "kernelspec": {
      "name": "python3",
      "display_name": "Python 3"
    },
    "language_info": {
      "name": "python"
    },
    "accelerator": "GPU"
  },
  "cells": [
    {
      "cell_type": "markdown",
      "metadata": {
        "id": "view-in-github",
        "colab_type": "text"
      },
      "source": [
        "<a href=\"https://colab.research.google.com/github/aschoudry/CNN_for_GW/blob/main/CNN_pycbcTrnsferLrn.ipynb\" target=\"_parent\"><img src=\"https://colab.research.google.com/assets/colab-badge.svg\" alt=\"Open In Colab\"/></a>"
      ]
    },
    {
      "cell_type": "code",
      "metadata": {
        "id": "lgQJud7BQUjU"
      },
      "source": [
        "%matplotlib inline\n",
        "import tensorflow as tf\n",
        "from tensorflow import keras\n",
        "import matplotlib.pyplot as plt\n",
        "import random\n",
        "import numpy as np\n",
        "from tensorflow.keras import layers"
      ],
      "execution_count": 1,
      "outputs": []
    },
    {
      "cell_type": "code",
      "metadata": {
        "id": "SFnfQbQOZQMb"
      },
      "source": [
        "input = layers.Input(shape=(256, 256, 3))\n",
        "x = layers.Conv2D(32, kernel_size=3, activation='relu')(input)\n",
        "x = layers.MaxPool2D((3,3))(x)\n",
        "x = layers.Conv2D(64, kernel_size=3, activation='relu')(x)\n",
        "x = layers.MaxPool2D((3,3))(x)\n",
        "x = layers.Flatten()(x)\n",
        "output = layers.Dense(units=1)(x)"
      ],
      "execution_count": 2,
      "outputs": []
    },
    {
      "cell_type": "code",
      "metadata": {
        "id": "s4XsPvSvaZKO"
      },
      "source": [
        "model = keras.Model(inputs=input, outputs=output)"
      ],
      "execution_count": 3,
      "outputs": []
    },
    {
      "cell_type": "code",
      "metadata": {
        "colab": {
          "base_uri": "https://localhost:8080/"
        },
        "id": "ETWLDDnfQisO",
        "outputId": "158835bc-7551-433a-f937-52455e2fc59f"
      },
      "source": [
        "model.summary()"
      ],
      "execution_count": 4,
      "outputs": [
        {
          "output_type": "stream",
          "name": "stdout",
          "text": [
            "Model: \"model\"\n",
            "_________________________________________________________________\n",
            "Layer (type)                 Output Shape              Param #   \n",
            "=================================================================\n",
            "input_1 (InputLayer)         [(None, 256, 256, 3)]     0         \n",
            "_________________________________________________________________\n",
            "conv2d (Conv2D)              (None, 254, 254, 32)      896       \n",
            "_________________________________________________________________\n",
            "max_pooling2d (MaxPooling2D) (None, 84, 84, 32)        0         \n",
            "_________________________________________________________________\n",
            "conv2d_1 (Conv2D)            (None, 82, 82, 64)        18496     \n",
            "_________________________________________________________________\n",
            "max_pooling2d_1 (MaxPooling2 (None, 27, 27, 64)        0         \n",
            "_________________________________________________________________\n",
            "flatten (Flatten)            (None, 46656)             0         \n",
            "_________________________________________________________________\n",
            "dense (Dense)                (None, 1)                 46657     \n",
            "=================================================================\n",
            "Total params: 66,049\n",
            "Trainable params: 66,049\n",
            "Non-trainable params: 0\n",
            "_________________________________________________________________\n"
          ]
        }
      ]
    },
    {
      "cell_type": "code",
      "metadata": {
        "id": "cVf1plPhQnhF"
      },
      "source": [
        "model.compile(optimizer='Adam', loss='mse')"
      ],
      "execution_count": 5,
      "outputs": []
    },
    {
      "cell_type": "code",
      "metadata": {
        "id": "UiqGj75ZQqWv"
      },
      "source": [
        "def process_path(file_path):\n",
        "  label = tf.strings.split(file_path, '_')[-2]\n",
        "  label = tf.strings.to_number(label)\n",
        "  image = tf.io.decode_png(tf.io.read_file(file_path))\n",
        "  image = tf.cast(image, tf.float32)\n",
        "  image/=255\n",
        "  return image, label"
      ],
      "execution_count": 6,
      "outputs": []
    },
    {
      "cell_type": "code",
      "metadata": {
        "colab": {
          "base_uri": "https://localhost:8080/"
        },
        "id": "sHYXTYQ-QslN",
        "outputId": "4d1df2e8-d580-4c9a-f391-42bdd8f92ea9"
      },
      "source": [
        "from google.colab import drive\n",
        "drive.mount('/content/gdrive')"
      ],
      "execution_count": 7,
      "outputs": [
        {
          "output_type": "stream",
          "name": "stdout",
          "text": [
            "Mounted at /content/gdrive\n"
          ]
        }
      ]
    },
    {
      "cell_type": "code",
      "metadata": {
        "id": "8p8yjUGlQu9t"
      },
      "source": [
        "list_ds_train = tf.data.Dataset.list_files('/content/gdrive/MyDrive/pycbc_image_data_noise_added/train_m_*_.png', shuffle=True)\n",
        "labeled_ds_train = list_ds_train.map(process_path)\n",
        "labeled_ds_train = labeled_ds_train.batch(20)"
      ],
      "execution_count": 8,
      "outputs": []
    },
    {
      "cell_type": "code",
      "metadata": {
        "id": "m0WXDyL6Q5N1"
      },
      "source": [
        "list_ds_test = tf.data.Dataset.list_files('/content/gdrive/MyDrive/pycbc_image_data_noise_added/test_m_*_.png', shuffle=True)\n",
        "labeled_ds_test = list_ds_test.map(process_path)\n",
        "labeled_ds_test = labeled_ds_test.batch(20)"
      ],
      "execution_count": 9,
      "outputs": []
    },
    {
      "cell_type": "code",
      "metadata": {
        "colab": {
          "base_uri": "https://localhost:8080/"
        },
        "id": "w1MTnAnjQ7se",
        "outputId": "760ad68c-91ca-44c6-dae3-7b3b50c791c4"
      },
      "source": [
        "history = model.fit(labeled_ds_train, epochs=50, verbose=2, validation_data=labeled_ds_test)"
      ],
      "execution_count": 10,
      "outputs": [
        {
          "output_type": "stream",
          "name": "stdout",
          "text": [
            "Epoch 1/50\n",
            "75/75 - 204s - loss: 923.7703 - val_loss: 35.9691\n",
            "Epoch 2/50\n",
            "75/75 - 5s - loss: 10.6660 - val_loss: 5.8220\n",
            "Epoch 3/50\n",
            "75/75 - 5s - loss: 5.4638 - val_loss: 4.2659\n",
            "Epoch 4/50\n",
            "75/75 - 5s - loss: 5.2878 - val_loss: 6.9789\n",
            "Epoch 5/50\n",
            "75/75 - 5s - loss: 4.4412 - val_loss: 2.9897\n",
            "Epoch 6/50\n",
            "75/75 - 5s - loss: 3.1880 - val_loss: 3.7621\n",
            "Epoch 7/50\n",
            "75/75 - 5s - loss: 3.1102 - val_loss: 2.7167\n",
            "Epoch 8/50\n",
            "75/75 - 5s - loss: 2.9465 - val_loss: 2.0172\n",
            "Epoch 9/50\n",
            "75/75 - 5s - loss: 2.6810 - val_loss: 2.1357\n",
            "Epoch 10/50\n",
            "75/75 - 5s - loss: 2.2068 - val_loss: 1.6760\n",
            "Epoch 11/50\n",
            "75/75 - 5s - loss: 1.9096 - val_loss: 1.7373\n",
            "Epoch 12/50\n",
            "75/75 - 5s - loss: 1.7774 - val_loss: 1.7492\n",
            "Epoch 13/50\n",
            "75/75 - 5s - loss: 1.6462 - val_loss: 1.3924\n",
            "Epoch 14/50\n",
            "75/75 - 5s - loss: 1.4692 - val_loss: 1.3098\n",
            "Epoch 15/50\n",
            "75/75 - 5s - loss: 1.8082 - val_loss: 1.5253\n",
            "Epoch 16/50\n",
            "75/75 - 5s - loss: 1.4959 - val_loss: 1.7896\n",
            "Epoch 17/50\n",
            "75/75 - 5s - loss: 1.3536 - val_loss: 1.2262\n",
            "Epoch 18/50\n",
            "75/75 - 5s - loss: 1.1233 - val_loss: 1.4131\n",
            "Epoch 19/50\n",
            "75/75 - 5s - loss: 1.1630 - val_loss: 1.0903\n",
            "Epoch 20/50\n",
            "75/75 - 5s - loss: 1.1211 - val_loss: 1.1346\n",
            "Epoch 21/50\n",
            "75/75 - 5s - loss: 1.0882 - val_loss: 0.8203\n",
            "Epoch 22/50\n",
            "75/75 - 5s - loss: 1.0322 - val_loss: 2.7086\n",
            "Epoch 23/50\n",
            "75/75 - 5s - loss: 0.9436 - val_loss: 0.7215\n",
            "Epoch 24/50\n",
            "75/75 - 5s - loss: 0.9531 - val_loss: 1.1415\n",
            "Epoch 25/50\n",
            "75/75 - 5s - loss: 0.9931 - val_loss: 0.7044\n",
            "Epoch 26/50\n",
            "75/75 - 5s - loss: 1.0092 - val_loss: 0.6442\n",
            "Epoch 27/50\n",
            "75/75 - 5s - loss: 0.7694 - val_loss: 0.5512\n",
            "Epoch 28/50\n",
            "75/75 - 5s - loss: 0.7613 - val_loss: 0.7427\n",
            "Epoch 29/50\n",
            "75/75 - 5s - loss: 0.8295 - val_loss: 0.5450\n",
            "Epoch 30/50\n",
            "75/75 - 5s - loss: 0.5945 - val_loss: 0.6343\n",
            "Epoch 31/50\n",
            "75/75 - 5s - loss: 0.5989 - val_loss: 0.5103\n",
            "Epoch 32/50\n",
            "75/75 - 5s - loss: 0.7308 - val_loss: 1.4211\n",
            "Epoch 33/50\n",
            "75/75 - 5s - loss: 0.7196 - val_loss: 0.4602\n",
            "Epoch 34/50\n",
            "75/75 - 5s - loss: 0.5073 - val_loss: 0.4466\n",
            "Epoch 35/50\n",
            "75/75 - 5s - loss: 0.4723 - val_loss: 0.5004\n",
            "Epoch 36/50\n",
            "75/75 - 5s - loss: 0.3942 - val_loss: 0.4589\n",
            "Epoch 37/50\n",
            "75/75 - 5s - loss: 0.5057 - val_loss: 0.4600\n",
            "Epoch 38/50\n",
            "75/75 - 5s - loss: 0.6268 - val_loss: 0.6135\n",
            "Epoch 39/50\n",
            "75/75 - 5s - loss: 0.4717 - val_loss: 0.4040\n",
            "Epoch 40/50\n",
            "75/75 - 5s - loss: 0.4490 - val_loss: 0.3898\n",
            "Epoch 41/50\n",
            "75/75 - 5s - loss: 0.3497 - val_loss: 0.5102\n",
            "Epoch 42/50\n",
            "75/75 - 5s - loss: 0.3844 - val_loss: 0.5058\n",
            "Epoch 43/50\n",
            "75/75 - 5s - loss: 0.3623 - val_loss: 0.6780\n",
            "Epoch 44/50\n",
            "75/75 - 5s - loss: 0.6493 - val_loss: 0.3289\n",
            "Epoch 45/50\n",
            "75/75 - 5s - loss: 0.4407 - val_loss: 0.6920\n",
            "Epoch 46/50\n",
            "75/75 - 5s - loss: 0.3564 - val_loss: 0.3345\n",
            "Epoch 47/50\n",
            "75/75 - 5s - loss: 0.3186 - val_loss: 0.2852\n",
            "Epoch 48/50\n",
            "75/75 - 5s - loss: 0.4355 - val_loss: 0.2988\n",
            "Epoch 49/50\n",
            "75/75 - 5s - loss: 0.3932 - val_loss: 0.6938\n",
            "Epoch 50/50\n",
            "75/75 - 5s - loss: 0.3106 - val_loss: 0.2598\n"
          ]
        }
      ]
    },
    {
      "cell_type": "code",
      "metadata": {
        "colab": {
          "base_uri": "https://localhost:8080/",
          "height": 265
        },
        "id": "s7DcI53vRCJY",
        "outputId": "e885b01c-befe-4942-f0a8-e7851ce8b0f8"
      },
      "source": [
        "plt.plot(history.history['loss'], 'r')\n",
        "plt.plot(history.history['val_loss'])\n",
        "plt.yscale(\"log\")"
      ],
      "execution_count": 11,
      "outputs": [
        {
          "output_type": "display_data",
          "data": {
            "image/png": "[encoded data removed]",
            "text/plain": [
              "<Figure size 432x288 with 1 Axes>"
            ]
          },
          "metadata": {
            "needs_background": "light"
          }
        }
      ]
    },
    {
      "cell_type": "code",
      "metadata": {
        "colab": {
          "base_uri": "https://localhost:8080/"
        },
        "id": "p0rpJD0WhJzS",
        "outputId": "2af35c5c-246c-4652-f1a9-24af48ae0971"
      },
      "source": [
        "base_model = keras.applications.VGG19(include_top=False, weights='imagenet')"
      ],
      "execution_count": 12,
      "outputs": [
        {
          "output_type": "stream",
          "name": "stdout",
          "text": [
            "Downloading data from https://storage.googleapis.com/tensorflow/keras-applications/vgg19/vgg19_weights_tf_dim_ordering_tf_kernels_notop.h5\n",
            "80142336/80134624 [==============================] - 1s 0us/step\n",
            "80150528/80134624 [==============================] - 1s 0us/step\n"
          ]
        }
      ]
    },
    {
      "cell_type": "code",
      "metadata": {
        "id": "w9fSwJnfh5bM"
      },
      "source": [
        "base_model.trainable = False"
      ],
      "execution_count": 13,
      "outputs": []
    },
    {
      "cell_type": "code",
      "metadata": {
        "colab": {
          "base_uri": "https://localhost:8080/"
        },
        "id": "8UeuJeE0htvm",
        "outputId": "1fa7fc06-c19d-4a3b-e660-dad44b0efd2b"
      },
      "source": [
        "base_model.summary()"
      ],
      "execution_count": 14,
      "outputs": [
        {
          "output_type": "stream",
          "name": "stdout",
          "text": [
            "Model: \"vgg19\"\n",
            "_________________________________________________________________\n",
            "Layer (type)                 Output Shape              Param #   \n",
            "=================================================================\n",
            "input_2 (InputLayer)         [(None, None, None, 3)]   0         \n",
            "_________________________________________________________________\n",
            "block1_conv1 (Conv2D)        (None, None, None, 64)    1792      \n",
            "_________________________________________________________________\n",
            "block1_conv2 (Conv2D)        (None, None, None, 64)    36928     \n",
            "_________________________________________________________________\n",
            "block1_pool (MaxPooling2D)   (None, None, None, 64)    0         \n",
            "_________________________________________________________________\n",
            "block2_conv1 (Conv2D)        (None, None, None, 128)   73856     \n",
            "_________________________________________________________________\n",
            "block2_conv2 (Conv2D)        (None, None, None, 128)   147584    \n",
            "_________________________________________________________________\n",
            "block2_pool (MaxPooling2D)   (None, None, None, 128)   0         \n",
            "_________________________________________________________________\n",
            "block3_conv1 (Conv2D)        (None, None, None, 256)   295168    \n",
            "_________________________________________________________________\n",
            "block3_conv2 (Conv2D)        (None, None, None, 256)   590080    \n",
            "_________________________________________________________________\n",
            "block3_conv3 (Conv2D)        (None, None, None, 256)   590080    \n",
            "_________________________________________________________________\n",
            "block3_conv4 (Conv2D)        (None, None, None, 256)   590080    \n",
            "_________________________________________________________________\n",
            "block3_pool (MaxPooling2D)   (None, None, None, 256)   0         \n",
            "_________________________________________________________________\n",
            "block4_conv1 (Conv2D)        (None, None, None, 512)   1180160   \n",
            "_________________________________________________________________\n",
            "block4_conv2 (Conv2D)        (None, None, None, 512)   2359808   \n",
            "_________________________________________________________________\n",
            "block4_conv3 (Conv2D)        (None, None, None, 512)   2359808   \n",
            "_________________________________________________________________\n",
            "block4_conv4 (Conv2D)        (None, None, None, 512)   2359808   \n",
            "_________________________________________________________________\n",
            "block4_pool (MaxPooling2D)   (None, None, None, 512)   0         \n",
            "_________________________________________________________________\n",
            "block5_conv1 (Conv2D)        (None, None, None, 512)   2359808   \n",
            "_________________________________________________________________\n",
            "block5_conv2 (Conv2D)        (None, None, None, 512)   2359808   \n",
            "_________________________________________________________________\n",
            "block5_conv3 (Conv2D)        (None, None, None, 512)   2359808   \n",
            "_________________________________________________________________\n",
            "block5_conv4 (Conv2D)        (None, None, None, 512)   2359808   \n",
            "_________________________________________________________________\n",
            "block5_pool (MaxPooling2D)   (None, None, None, 512)   0         \n",
            "=================================================================\n",
            "Total params: 20,024,384\n",
            "Trainable params: 0\n",
            "Non-trainable params: 20,024,384\n",
            "_________________________________________________________________\n"
          ]
        }
      ]
    },
    {
      "cell_type": "code",
      "metadata": {
        "id": "ipTN9zmnRGTo"
      },
      "source": [
        "input = layers.Input(shape=(256, 256, 3))\n",
        "x = base_model(input)\n",
        "x = layers.Flatten()(x)\n",
        "output = layers.Dense(units=1)(x)"
      ],
      "execution_count": 15,
      "outputs": []
    },
    {
      "cell_type": "code",
      "metadata": {
        "id": "T3feUOBxiHgQ"
      },
      "source": [
        "model_VGG = keras.Model(inputs=input, outputs=output)"
      ],
      "execution_count": 16,
      "outputs": []
    },
    {
      "cell_type": "code",
      "metadata": {
        "colab": {
          "base_uri": "https://localhost:8080/"
        },
        "id": "OfcruMh3iOY5",
        "outputId": "4696fbb9-4c33-450a-bfc9-e3eb4dfaaef2"
      },
      "source": [
        "model_VGG.summary()"
      ],
      "execution_count": 17,
      "outputs": [
        {
          "output_type": "stream",
          "name": "stdout",
          "text": [
            "Model: \"model_1\"\n",
            "_________________________________________________________________\n",
            "Layer (type)                 Output Shape              Param #   \n",
            "=================================================================\n",
            "input_3 (InputLayer)         [(None, 256, 256, 3)]     0         \n",
            "_________________________________________________________________\n",
            "vgg19 (Functional)           (None, None, None, 512)   20024384  \n",
            "_________________________________________________________________\n",
            "flatten_1 (Flatten)          (None, 32768)             0         \n",
            "_________________________________________________________________\n",
            "dense_1 (Dense)              (None, 1)                 32769     \n",
            "=================================================================\n",
            "Total params: 20,057,153\n",
            "Trainable params: 32,769\n",
            "Non-trainable params: 20,024,384\n",
            "_________________________________________________________________\n"
          ]
        }
      ]
    },
    {
      "cell_type": "code",
      "metadata": {
        "id": "Qbuvxw_KiRdQ"
      },
      "source": [
        "model_VGG.compile(optimizer='Adam', loss='mse')"
      ],
      "execution_count": 18,
      "outputs": []
    },
    {
      "cell_type": "code",
      "metadata": {
        "colab": {
          "base_uri": "https://localhost:8080/"
        },
        "id": "wwer3IjUinYZ",
        "outputId": "925397d0-49de-4ed6-96f6-30cb83bc00d1"
      },
      "source": [
        "history_VGG = model_VGG.fit(labeled_ds_train, epochs=50, verbose=2, validation_data=labeled_ds_test)"
      ],
      "execution_count": 19,
      "outputs": [
        {
          "output_type": "stream",
          "name": "stdout",
          "text": [
            "Epoch 1/50\n",
            "75/75 - 35s - loss: 579.5875 - val_loss: 98.4422\n",
            "Epoch 2/50\n",
            "75/75 - 26s - loss: 46.4678 - val_loss: 25.8315\n",
            "Epoch 3/50\n",
            "75/75 - 26s - loss: 13.1984 - val_loss: 9.9377\n",
            "Epoch 4/50\n",
            "75/75 - 26s - loss: 5.6478 - val_loss: 5.8122\n",
            "Epoch 5/50\n",
            "75/75 - 26s - loss: 3.6880 - val_loss: 4.1233\n",
            "Epoch 6/50\n",
            "75/75 - 26s - loss: 2.8912 - val_loss: 3.5493\n",
            "Epoch 7/50\n",
            "75/75 - 26s - loss: 2.4394 - val_loss: 2.7875\n",
            "Epoch 8/50\n",
            "75/75 - 26s - loss: 2.0700 - val_loss: 2.4092\n",
            "Epoch 9/50\n",
            "75/75 - 26s - loss: 1.7507 - val_loss: 2.0202\n",
            "Epoch 10/50\n",
            "75/75 - 26s - loss: 1.5203 - val_loss: 1.7791\n",
            "Epoch 11/50\n",
            "75/75 - 26s - loss: 1.3186 - val_loss: 1.5281\n",
            "Epoch 12/50\n",
            "75/75 - 26s - loss: 1.1503 - val_loss: 1.3437\n",
            "Epoch 13/50\n",
            "75/75 - 26s - loss: 1.0148 - val_loss: 1.2641\n",
            "Epoch 14/50\n",
            "75/75 - 26s - loss: 0.9398 - val_loss: 1.2488\n",
            "Epoch 15/50\n",
            "75/75 - 26s - loss: 0.8074 - val_loss: 0.9688\n",
            "Epoch 16/50\n",
            "75/75 - 26s - loss: 0.7252 - val_loss: 0.9082\n",
            "Epoch 17/50\n",
            "75/75 - 26s - loss: 0.7016 - val_loss: 0.8291\n",
            "Epoch 18/50\n",
            "75/75 - 26s - loss: 0.5939 - val_loss: 0.7726\n",
            "Epoch 19/50\n",
            "75/75 - 26s - loss: 0.5273 - val_loss: 0.6883\n",
            "Epoch 20/50\n",
            "75/75 - 26s - loss: 0.5066 - val_loss: 0.6548\n",
            "Epoch 21/50\n",
            "75/75 - 26s - loss: 0.4866 - val_loss: 0.6180\n",
            "Epoch 22/50\n",
            "75/75 - 26s - loss: 0.4171 - val_loss: 0.6027\n",
            "Epoch 23/50\n",
            "75/75 - 26s - loss: 0.4023 - val_loss: 0.5416\n",
            "Epoch 24/50\n",
            "75/75 - 26s - loss: 0.3649 - val_loss: 0.5230\n",
            "Epoch 25/50\n",
            "75/75 - 26s - loss: 0.3452 - val_loss: 0.4845\n",
            "Epoch 26/50\n",
            "75/75 - 26s - loss: 0.3154 - val_loss: 0.4781\n",
            "Epoch 27/50\n",
            "75/75 - 26s - loss: 0.2898 - val_loss: 0.4492\n",
            "Epoch 28/50\n",
            "75/75 - 26s - loss: 0.2736 - val_loss: 0.4281\n",
            "Epoch 29/50\n",
            "75/75 - 26s - loss: 0.2644 - val_loss: 0.4017\n",
            "Epoch 30/50\n",
            "75/75 - 26s - loss: 0.2541 - val_loss: 0.3768\n",
            "Epoch 31/50\n",
            "75/75 - 26s - loss: 0.2265 - val_loss: 0.3764\n",
            "Epoch 32/50\n",
            "75/75 - 26s - loss: 0.2093 - val_loss: 0.3665\n",
            "Epoch 33/50\n",
            "75/75 - 26s - loss: 0.2037 - val_loss: 0.4162\n",
            "Epoch 34/50\n",
            "75/75 - 26s - loss: 0.2013 - val_loss: 0.3347\n",
            "Epoch 35/50\n",
            "75/75 - 26s - loss: 0.1807 - val_loss: 0.3385\n",
            "Epoch 36/50\n",
            "75/75 - 26s - loss: 0.1802 - val_loss: 0.3291\n",
            "Epoch 37/50\n",
            "75/75 - 26s - loss: 0.1784 - val_loss: 0.2966\n",
            "Epoch 38/50\n",
            "75/75 - 26s - loss: 0.1608 - val_loss: 0.2846\n",
            "Epoch 39/50\n",
            "75/75 - 26s - loss: 0.1873 - val_loss: 0.2882\n",
            "Epoch 40/50\n",
            "75/75 - 26s - loss: 0.1420 - val_loss: 0.3013\n",
            "Epoch 41/50\n",
            "75/75 - 26s - loss: 0.1375 - val_loss: 0.2903\n",
            "Epoch 42/50\n",
            "75/75 - 26s - loss: 0.1466 - val_loss: 0.3362\n",
            "Epoch 43/50\n",
            "75/75 - 26s - loss: 0.1167 - val_loss: 0.2464\n",
            "Epoch 44/50\n",
            "75/75 - 26s - loss: 0.1185 - val_loss: 0.2626\n",
            "Epoch 45/50\n",
            "75/75 - 26s - loss: 0.1147 - val_loss: 0.2440\n",
            "Epoch 46/50\n",
            "75/75 - 26s - loss: 0.1144 - val_loss: 0.2279\n",
            "Epoch 47/50\n",
            "75/75 - 26s - loss: 0.0924 - val_loss: 0.2285\n",
            "Epoch 48/50\n",
            "75/75 - 26s - loss: 0.0941 - val_loss: 0.2571\n",
            "Epoch 49/50\n",
            "75/75 - 26s - loss: 0.1097 - val_loss: 0.2520\n",
            "Epoch 50/50\n",
            "75/75 - 26s - loss: 0.0964 - val_loss: 0.2043\n"
          ]
        }
      ]
    },
    {
      "cell_type": "code",
      "metadata": {
        "colab": {
          "base_uri": "https://localhost:8080/",
          "height": 265
        },
        "id": "d8oPyXQIitYq",
        "outputId": "b2f2bdf6-21f3-46b5-cdb1-293b422948ea"
      },
      "source": [
        "plt.plot(history.history['loss'], 'r')\n",
        "plt.plot(history.history['val_loss'], 'r--')\n",
        "plt.plot(history_VGG.history['loss'], 'k')\n",
        "plt.plot(history_VGG.history['val_loss'], 'k--')\n",
        "plt.yscale(\"log\")"
      ],
      "execution_count": 22,
      "outputs": [
        {
          "output_type": "display_data",
          "data": {
            "image/png": "[encoded data removed]",
            "text/plain": [
              "<Figure size 432x288 with 1 Axes>"
            ]
          },
          "metadata": {
            "needs_background": "light"
          }
        }
      ]
    },
    {
      "cell_type": "code",
      "metadata": {
        "id": "poKBJHPnKFnl"
      },
      "source": [
        ""
      ],
      "execution_count": null,
      "outputs": []
    }
  ]
}