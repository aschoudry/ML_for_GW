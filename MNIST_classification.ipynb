{
  "nbformat": 4,
  "nbformat_minor": 0,
  "metadata": {
    "accelerator": "GPU",
    "colab": {
      "name": "MNIST_classification.ipynb",
      "provenance": [],
      "collapsed_sections": [],
      "authorship_tag": "ABX9TyMukVjyL/B3phRwzwZ67kRW",
      "include_colab_link": true
    },
    "kernelspec": {
      "display_name": "Python 3",
      "name": "python3"
    },
    "language_info": {
      "name": "python"
    }
  },
  "cells": [
    {
      "cell_type": "markdown",
      "metadata": {
        "id": "view-in-github",
        "colab_type": "text"
      },
      "source": [
        "<a href=\"https://colab.research.google.com/github/aschoudry/ML_imageClassifier/blob/main/MNIST_classification.ipynb\" target=\"_parent\"><img src=\"https://colab.research.google.com/assets/colab-badge.svg\" alt=\"Open In Colab\"/></a>"
      ]
    },
    {
      "cell_type": "code",
      "metadata": {
        "id": "2Eg_0166Q-cW"
      },
      "source": [
        "%matplotlib inline\n",
        "import tensorflow as tf\n",
        "from tensorflow import keras\n",
        "import matplotlib.pyplot as plt\n",
        "import random"
      ],
      "execution_count": null,
      "outputs": []
    },
    {
      "cell_type": "code",
      "metadata": {
        "colab": {
          "base_uri": "https://localhost:8080/",
          "height": 35
        },
        "id": "r69fwreM2kep",
        "outputId": "e6cd719e-83e9-411e-a1bb-e415e94eb89e"
      },
      "source": [
        "tf.__version__"
      ],
      "execution_count": null,
      "outputs": [
        {
          "data": {
            "application/vnd.google.colaboratory.intrinsic+json": {
              "type": "string"
            },
            "text/plain": [
              "'2.6.0'"
            ]
          },
          "execution_count": 2,
          "metadata": {},
          "output_type": "execute_result"
        }
      ]
    },
    {
      "cell_type": "code",
      "metadata": {
        "colab": {
          "base_uri": "https://localhost:8080/"
        },
        "id": "gRytk2zUBXJA",
        "outputId": "68a8dfca-1778-4853-d94e-ad24623944fe"
      },
      "source": [
        "(x_train, y_train), (x_test, y_test) = keras.datasets.mnist.load_data()\n"
      ],
      "execution_count": null,
      "outputs": [
        {
          "name": "stdout",
          "output_type": "stream",
          "text": [
            "Downloading data from https://storage.googleapis.com/tensorflow/tf-keras-datasets/mnist.npz\n",
            "11493376/11490434 [==============================] - 0s 0us/step\n",
            "11501568/11490434 [==============================] - 0s 0us/step\n"
          ]
        }
      ]
    },
    {
      "cell_type": "code",
      "metadata": {
        "colab": {
          "base_uri": "https://localhost:8080/",
          "height": 265
        },
        "id": "ifdriCt6I8zN",
        "outputId": "6dfd13db-4a69-4602-fc37-a365ae346e6d"
      },
      "source": [
        "fig, ax = plt.subplots()\n",
        "im = ax.imshow(x_train[7])\n",
        "\n",
        "plt.show()"
      ],
      "execution_count": null,
      "outputs": [
        {
          "data": {
            "image/png": "[encoded data removed]",
            "text/plain": [
              "<Figure size 432x288 with 1 Axes>"
            ]
          },
          "metadata": {},
          "output_type": "display_data"
        }
      ]
    },
    {
      "cell_type": "code",
      "metadata": {
        "colab": {
          "base_uri": "https://localhost:8080/"
        },
        "id": "WjPoNhw_uZNX",
        "outputId": "ede36e6e-bcc8-47f5-db09-4f4bad858ca2"
      },
      "source": [
        "x_train.shape"
      ],
      "execution_count": null,
      "outputs": [
        {
          "data": {
            "text/plain": [
              "(60000, 28, 28)"
            ]
          },
          "execution_count": 5,
          "metadata": {},
          "output_type": "execute_result"
        }
      ]
    },
    {
      "cell_type": "code",
      "metadata": {
        "id": "uurK5Du6ucuL"
      },
      "source": [
        "x_train = x_train.reshape(60000, 28,28,1)\n",
        "x_test = x_test.reshape(10000, 28,28,1)"
      ],
      "execution_count": null,
      "outputs": []
    },
    {
      "cell_type": "code",
      "metadata": {
        "id": "1M1pCceiBdIV"
      },
      "source": [
        "from tensorflow.keras.utils import to_categorical\n",
        "y_train = to_categorical(y_train)\n"
      ],
      "execution_count": null,
      "outputs": []
    },
    {
      "cell_type": "code",
      "metadata": {
        "id": "sU-qipfs1ieo"
      },
      "source": [
        "y_test = to_categorical(y_test)"
      ],
      "execution_count": null,
      "outputs": []
    },
    {
      "cell_type": "code",
      "metadata": {
        "colab": {
          "base_uri": "https://localhost:8080/"
        },
        "id": "EAxe0Uk11TgV",
        "outputId": "29839c36-82cf-42ae-8e16-68a0b8f018c9"
      },
      "source": [
        "y_train.shape"
      ],
      "execution_count": null,
      "outputs": [
        {
          "data": {
            "text/plain": [
              "(60000, 10)"
            ]
          },
          "execution_count": 9,
          "metadata": {},
          "output_type": "execute_result"
        }
      ]
    },
    {
      "cell_type": "code",
      "metadata": {
        "id": "JNoUBAInufeL"
      },
      "source": [
        "model = tf.keras.models.Sequential()\n",
        "model.add(tf.keras.layers.Input(shape=(784,)))\n",
        "#model.add(tf.keras.layers.Dense(300, activation=\"relu\"))\n",
        "#model.add(tf.keras.layers.Dense(100, activation=\"relu\"))\n",
        "model.add(tf.keras.layers.Dense(50, activation=\"relu\"))\n",
        "model.add(tf.keras.layers.Dense(30, activation=\"relu\"))\n",
        "model.add(tf.keras.layers.Dense(10, activation=\"softmax\"))"
      ],
      "execution_count": null,
      "outputs": []
    },
    {
      "cell_type": "code",
      "metadata": {
        "colab": {
          "base_uri": "https://localhost:8080/"
        },
        "id": "yoQkn5OOuhdV",
        "outputId": "ffdf2741-5f13-43af-da18-3638fa285ae4"
      },
      "source": [
        "model.summary()"
      ],
      "execution_count": null,
      "outputs": [
        {
          "name": "stdout",
          "output_type": "stream",
          "text": [
            "Model: \"sequential\"\n",
            "_________________________________________________________________\n",
            "Layer (type)                 Output Shape              Param #   \n",
            "=================================================================\n",
            "dense (Dense)                (None, 50)                39250     \n",
            "_________________________________________________________________\n",
            "dense_1 (Dense)              (None, 30)                1530      \n",
            "_________________________________________________________________\n",
            "dense_2 (Dense)              (None, 10)                310       \n",
            "=================================================================\n",
            "Total params: 41,090\n",
            "Trainable params: 41,090\n",
            "Non-trainable params: 0\n",
            "_________________________________________________________________\n"
          ]
        }
      ]
    },
    {
      "cell_type": "code",
      "metadata": {
        "id": "9cuPtnGjvXjv"
      },
      "source": [
        "model.compile(optimizer=\"Adam\",\n",
        "              loss=tf.keras.losses.CategoricalCrossentropy(),\n",
        "              metrics=[tf.keras.metrics.Accuracy(),\n",
        "                       tf.keras.metrics.FalseNegatives()])"
      ],
      "execution_count": null,
      "outputs": []
    },
    {
      "cell_type": "code",
      "metadata": {
        "colab": {
          "base_uri": "https://localhost:8080/"
        },
        "id": "TzFVM5RRyxWH",
        "outputId": "2c8854a4-0b0f-4177-c469-735d7f161c95"
      },
      "source": [
        "history = model.fit(x=x_train, y=y_train, batch_size=32, epochs=50, shuffle=True, validation_data=(x_test, y_test))"
      ],
      "execution_count": null,
      "outputs": [
        {
          "name": "stdout",
          "output_type": "stream",
          "text": [
            "Epoch 1/50\n",
            "1875/1875 [==============================] - 5s 2ms/step - loss: 1.7061 - accuracy: 0.0357 - false_negatives: 27402.0000 - val_loss: 0.7351 - val_accuracy: 0.0674 - val_false_negatives: 2800.0000\n",
            "Epoch 2/50\n",
            "1875/1875 [==============================] - 4s 2ms/step - loss: 0.5812 - accuracy: 0.0555 - false_negatives: 14661.0000 - val_loss: 0.4492 - val_accuracy: 0.0565 - val_false_negatives: 1940.0000\n",
            "Epoch 3/50\n",
            "1875/1875 [==============================] - 4s 2ms/step - loss: 0.3873 - accuracy: 0.0445 - false_negatives: 7741.0000 - val_loss: 0.3370 - val_accuracy: 0.0183 - val_false_negatives: 1010.0000\n",
            "Epoch 4/50\n",
            "1875/1875 [==============================] - 4s 2ms/step - loss: 0.2702 - accuracy: 0.0289 - false_negatives: 5120.0000 - val_loss: 0.2928 - val_accuracy: 0.0279 - val_false_negatives: 854.0000\n",
            "Epoch 5/50\n",
            "1875/1875 [==============================] - 4s 2ms/step - loss: 0.2170 - accuracy: 0.0352 - false_negatives: 4069.0000 - val_loss: 0.2319 - val_accuracy: 0.0393 - val_false_negatives: 647.0000\n",
            "Epoch 6/50\n",
            "1875/1875 [==============================] - 4s 2ms/step - loss: 0.1804 - accuracy: 0.0290 - false_negatives: 3443.0000 - val_loss: 0.1999 - val_accuracy: 0.0245 - val_false_negatives: 581.0000\n",
            "Epoch 7/50\n",
            "1875/1875 [==============================] - 4s 2ms/step - loss: 0.1580 - accuracy: 0.0230 - false_negatives: 3019.0000 - val_loss: 0.1907 - val_accuracy: 0.0243 - val_false_negatives: 513.0000\n",
            "Epoch 8/50\n",
            "1875/1875 [==============================] - 4s 2ms/step - loss: 0.1424 - accuracy: 0.0259 - false_negatives: 2698.0000 - val_loss: 0.2029 - val_accuracy: 0.0338 - val_false_negatives: 527.0000\n",
            "Epoch 9/50\n",
            "1875/1875 [==============================] - 4s 2ms/step - loss: 0.1296 - accuracy: 0.0301 - false_negatives: 2423.0000 - val_loss: 0.1752 - val_accuracy: 0.0291 - val_false_negatives: 457.0000\n",
            "Epoch 10/50\n",
            "1875/1875 [==============================] - 4s 2ms/step - loss: 0.1191 - accuracy: 0.0293 - false_negatives: 2250.0000 - val_loss: 0.1796 - val_accuracy: 0.0300 - val_false_negatives: 448.0000\n",
            "Epoch 11/50\n",
            "1875/1875 [==============================] - 4s 2ms/step - loss: 0.1124 - accuracy: 0.0300 - false_negatives: 2135.0000 - val_loss: 0.1794 - val_accuracy: 0.0294 - val_false_negatives: 457.0000\n",
            "Epoch 12/50\n",
            "1875/1875 [==============================] - 4s 2ms/step - loss: 0.1049 - accuracy: 0.0311 - false_negatives: 1990.0000 - val_loss: 0.1955 - val_accuracy: 0.0295 - val_false_negatives: 440.0000\n",
            "Epoch 13/50\n",
            "1875/1875 [==============================] - 4s 2ms/step - loss: 0.1024 - accuracy: 0.0310 - false_negatives: 1926.0000 - val_loss: 0.1816 - val_accuracy: 0.0229 - val_false_negatives: 435.0000\n",
            "Epoch 14/50\n",
            "1875/1875 [==============================] - 4s 2ms/step - loss: 0.0965 - accuracy: 0.0304 - false_negatives: 1783.0000 - val_loss: 0.1832 - val_accuracy: 0.0198 - val_false_negatives: 453.0000\n",
            "Epoch 15/50\n",
            "1875/1875 [==============================] - 4s 2ms/step - loss: 0.0918 - accuracy: 0.0373 - false_negatives: 1722.0000 - val_loss: 0.1847 - val_accuracy: 0.0353 - val_false_negatives: 407.0000\n",
            "Epoch 16/50\n",
            "1875/1875 [==============================] - 4s 2ms/step - loss: 0.0942 - accuracy: 0.0376 - false_negatives: 1721.0000 - val_loss: 0.1713 - val_accuracy: 0.0339 - val_false_negatives: 388.0000\n",
            "Epoch 17/50\n",
            "1875/1875 [==============================] - 4s 2ms/step - loss: 0.0858 - accuracy: 0.0409 - false_negatives: 1588.0000 - val_loss: 0.1888 - val_accuracy: 0.0552 - val_false_negatives: 387.0000\n",
            "Epoch 18/50\n",
            "1875/1875 [==============================] - 4s 2ms/step - loss: 0.0834 - accuracy: 0.0572 - false_negatives: 1570.0000 - val_loss: 0.2081 - val_accuracy: 0.0554 - val_false_negatives: 434.0000\n",
            "Epoch 19/50\n",
            "1875/1875 [==============================] - 4s 2ms/step - loss: 0.0814 - accuracy: 0.0661 - false_negatives: 1487.0000 - val_loss: 0.2118 - val_accuracy: 0.0648 - val_false_negatives: 442.0000\n",
            "Epoch 20/50\n",
            "1875/1875 [==============================] - 4s 2ms/step - loss: 0.0803 - accuracy: 0.0619 - false_negatives: 1491.0000 - val_loss: 0.2308 - val_accuracy: 0.0680 - val_false_negatives: 472.0000\n",
            "Epoch 21/50\n",
            "1875/1875 [==============================] - 4s 2ms/step - loss: 0.0795 - accuracy: 0.0757 - false_negatives: 1469.0000 - val_loss: 0.2267 - val_accuracy: 0.0782 - val_false_negatives: 441.0000\n",
            "Epoch 22/50\n",
            "1875/1875 [==============================] - 4s 2ms/step - loss: 0.0739 - accuracy: 0.0778 - false_negatives: 1355.0000 - val_loss: 0.2141 - val_accuracy: 0.0674 - val_false_negatives: 400.0000\n",
            "Epoch 23/50\n",
            "1875/1875 [==============================] - 4s 2ms/step - loss: 0.0745 - accuracy: 0.0658 - false_negatives: 1357.0000 - val_loss: 0.1937 - val_accuracy: 0.0422 - val_false_negatives: 416.0000\n",
            "Epoch 24/50\n",
            "1875/1875 [==============================] - 4s 2ms/step - loss: 0.0700 - accuracy: 0.0722 - false_negatives: 1278.0000 - val_loss: 0.2179 - val_accuracy: 0.0618 - val_false_negatives: 401.0000\n",
            "Epoch 25/50\n",
            "1875/1875 [==============================] - 4s 2ms/step - loss: 0.0684 - accuracy: 0.0760 - false_negatives: 1268.0000 - val_loss: 0.2455 - val_accuracy: 0.0893 - val_false_negatives: 428.0000\n",
            "Epoch 26/50\n",
            "1875/1875 [==============================] - 4s 2ms/step - loss: 0.0683 - accuracy: 0.0909 - false_negatives: 1243.0000 - val_loss: 0.2341 - val_accuracy: 0.1032 - val_false_negatives: 391.0000\n",
            "Epoch 27/50\n",
            "1875/1875 [==============================] - 4s 2ms/step - loss: 0.0686 - accuracy: 0.0977 - false_negatives: 1285.0000 - val_loss: 0.2311 - val_accuracy: 0.0992 - val_false_negatives: 432.0000\n",
            "Epoch 28/50\n",
            "1875/1875 [==============================] - 4s 2ms/step - loss: 0.0681 - accuracy: 0.1006 - false_negatives: 1176.0000 - val_loss: 0.2594 - val_accuracy: 0.0886 - val_false_negatives: 407.0000\n",
            "Epoch 29/50\n",
            "1875/1875 [==============================] - 4s 2ms/step - loss: 0.0682 - accuracy: 0.1035 - false_negatives: 1204.0000 - val_loss: 0.2385 - val_accuracy: 0.1268 - val_false_negatives: 394.0000\n",
            "Epoch 30/50\n",
            "1875/1875 [==============================] - 4s 2ms/step - loss: 0.0703 - accuracy: 0.1066 - false_negatives: 1228.0000 - val_loss: 0.2221 - val_accuracy: 0.0894 - val_false_negatives: 392.0000\n",
            "Epoch 31/50\n",
            "1875/1875 [==============================] - 4s 2ms/step - loss: 0.0657 - accuracy: 0.1044 - false_negatives: 1169.0000 - val_loss: 0.2609 - val_accuracy: 0.1404 - val_false_negatives: 390.0000\n",
            "Epoch 32/50\n",
            "1875/1875 [==============================] - 4s 2ms/step - loss: 0.0636 - accuracy: 0.1225 - false_negatives: 1079.0000 - val_loss: 0.2730 - val_accuracy: 0.1304 - val_false_negatives: 415.0000\n",
            "Epoch 33/50\n",
            "1875/1875 [==============================] - 4s 2ms/step - loss: 0.0608 - accuracy: 0.1096 - false_negatives: 1084.0000 - val_loss: 0.2688 - val_accuracy: 0.1106 - val_false_negatives: 411.0000\n",
            "Epoch 34/50\n",
            "1875/1875 [==============================] - 4s 2ms/step - loss: 0.0637 - accuracy: 0.1020 - false_negatives: 1112.0000 - val_loss: 0.2543 - val_accuracy: 0.1040 - val_false_negatives: 414.0000\n",
            "Epoch 35/50\n",
            "1875/1875 [==============================] - 4s 2ms/step - loss: 0.0605 - accuracy: 0.1177 - false_negatives: 1053.0000 - val_loss: 0.2621 - val_accuracy: 0.1054 - val_false_negatives: 417.0000\n",
            "Epoch 36/50\n",
            "1875/1875 [==============================] - 4s 2ms/step - loss: 0.0611 - accuracy: 0.1210 - false_negatives: 1049.0000 - val_loss: 0.2679 - val_accuracy: 0.1375 - val_false_negatives: 410.0000\n",
            "Epoch 37/50\n",
            "1875/1875 [==============================] - 4s 2ms/step - loss: 0.0593 - accuracy: 0.1296 - false_negatives: 998.0000 - val_loss: 0.2521 - val_accuracy: 0.1320 - val_false_negatives: 381.0000\n",
            "Epoch 38/50\n",
            "1875/1875 [==============================] - 4s 2ms/step - loss: 0.0577 - accuracy: 0.1277 - false_negatives: 996.0000 - val_loss: 0.2728 - val_accuracy: 0.1469 - val_false_negatives: 411.0000\n",
            "Epoch 39/50\n",
            "1875/1875 [==============================] - 4s 2ms/step - loss: 0.0632 - accuracy: 0.1380 - false_negatives: 1075.0000 - val_loss: 0.2832 - val_accuracy: 0.1361 - val_false_negatives: 410.0000\n",
            "Epoch 40/50\n",
            "1875/1875 [==============================] - 4s 2ms/step - loss: 0.0516 - accuracy: 0.1505 - false_negatives: 940.0000 - val_loss: 0.3579 - val_accuracy: 0.1525 - val_false_negatives: 473.0000\n",
            "Epoch 41/50\n",
            "1875/1875 [==============================] - 4s 2ms/step - loss: 0.0556 - accuracy: 0.1533 - false_negatives: 984.0000 - val_loss: 0.3191 - val_accuracy: 0.1426 - val_false_negatives: 444.0000\n",
            "Epoch 42/50\n",
            "1875/1875 [==============================] - 4s 2ms/step - loss: 0.0576 - accuracy: 0.1475 - false_negatives: 961.0000 - val_loss: 0.3412 - val_accuracy: 0.1332 - val_false_negatives: 460.0000\n",
            "Epoch 43/50\n",
            "1875/1875 [==============================] - 4s 2ms/step - loss: 0.0517 - accuracy: 0.1476 - false_negatives: 915.0000 - val_loss: 0.3358 - val_accuracy: 0.1694 - val_false_negatives: 403.0000\n",
            "Epoch 44/50\n",
            "1875/1875 [==============================] - 4s 2ms/step - loss: 0.0582 - accuracy: 0.1582 - false_negatives: 1010.0000 - val_loss: 0.3067 - val_accuracy: 0.1463 - val_false_negatives: 421.0000\n",
            "Epoch 45/50\n",
            "1875/1875 [==============================] - 4s 2ms/step - loss: 0.0592 - accuracy: 0.1640 - false_negatives: 1002.0000 - val_loss: 0.2846 - val_accuracy: 0.1545 - val_false_negatives: 396.0000\n",
            "Epoch 46/50\n",
            "1875/1875 [==============================] - 4s 2ms/step - loss: 0.0520 - accuracy: 0.1684 - false_negatives: 884.0000 - val_loss: 0.3279 - val_accuracy: 0.1927 - val_false_negatives: 381.0000\n",
            "Epoch 47/50\n",
            "1875/1875 [==============================] - 4s 2ms/step - loss: 0.0512 - accuracy: 0.1777 - false_negatives: 883.0000 - val_loss: 0.3352 - val_accuracy: 0.1744 - val_false_negatives: 407.0000\n",
            "Epoch 48/50\n",
            "1875/1875 [==============================] - 4s 2ms/step - loss: 0.0507 - accuracy: 0.1794 - false_negatives: 917.0000 - val_loss: 0.3333 - val_accuracy: 0.1852 - val_false_negatives: 431.0000\n",
            "Epoch 49/50\n",
            "1875/1875 [==============================] - 4s 2ms/step - loss: 0.0539 - accuracy: 0.1793 - false_negatives: 927.0000 - val_loss: 0.3427 - val_accuracy: 0.1851 - val_false_negatives: 412.0000\n",
            "Epoch 50/50\n",
            "1875/1875 [==============================] - 4s 2ms/step - loss: 0.0508 - accuracy: 0.1698 - false_negatives: 847.0000 - val_loss: 0.3215 - val_accuracy: 0.1667 - val_false_negatives: 402.0000\n"
          ]
        }
      ]
    },
    {
      "cell_type": "code",
      "metadata": {
        "colab": {
          "base_uri": "https://localhost:8080/"
        },
        "id": "ICSF5WPN1tlJ",
        "outputId": "e9bd0f03-fe17-4222-e2bb-349bb337223e"
      },
      "source": [
        "print(history.history.keys())"
      ],
      "execution_count": null,
      "outputs": [
        {
          "name": "stdout",
          "output_type": "stream",
          "text": [
            "dict_keys(['loss', 'accuracy', 'false_negatives', 'val_loss', 'val_accuracy', 'val_false_negatives'])\n"
          ]
        }
      ]
    },
    {
      "cell_type": "code",
      "metadata": {
        "colab": {
          "base_uri": "https://localhost:8080/",
          "height": 282
        },
        "id": "AfnYWuXp1zNT",
        "outputId": "0fdf2de1-154c-4d3b-f99d-b1d439fb928d"
      },
      "source": [
        "plt.plot(history.history['loss'], 'r')\n",
        "plt.plot(history.history['val_loss'])"
      ],
      "execution_count": null,
      "outputs": [
        {
          "data": {
            "text/plain": [
              "[<matplotlib.lines.Line2D at 0x7ffa39778fd0>]"
            ]
          },
          "execution_count": 15,
          "metadata": {},
          "output_type": "execute_result"
        },
        {
          "data": {
            "image/png": "[encoded data removed]",
            "text/plain": [
              "<Figure size 432x288 with 1 Axes>"
            ]
          },
          "metadata": {},
          "output_type": "display_data"
        }
      ]
    },
    {
      "cell_type": "code",
      "metadata": {
        "colab": {
          "base_uri": "https://localhost:8080/",
          "height": 164
        },
        "id": "tiQaN4_u6q6n",
        "outputId": "06367ebd-27ea-4410-a856-a55f71116def"
      },
      "source": [
        "y_predict[2]"
      ],
      "execution_count": null,
      "outputs": [
        {
          "ename": "NameError",
          "evalue": "ignored",
          "output_type": "error",
          "traceback": [
            "\u001b[0;31m---------------------------------------------------------------------------\u001b[0m",
            "\u001b[0;31mNameError\u001b[0m                                 Traceback (most recent call last)",
            "\u001b[0;32m<ipython-input-16-d2e6eda699a7>\u001b[0m in \u001b[0;36m<module>\u001b[0;34m()\u001b[0m\n\u001b[0;32m----> 1\u001b[0;31m \u001b[0my_predict\u001b[0m\u001b[0;34m[\u001b[0m\u001b[0;36m2\u001b[0m\u001b[0;34m]\u001b[0m\u001b[0;34m\u001b[0m\u001b[0;34m\u001b[0m\u001b[0m\n\u001b[0m",
            "\u001b[0;31mNameError\u001b[0m: name 'y_predict' is not defined"
          ]
        }
      ]
    },
    {
      "cell_type": "code",
      "metadata": {
        "id": "n4vOyoMK7D0V"
      },
      "source": [
        "x_test[6].shape"
      ],
      "execution_count": null,
      "outputs": []
    },
    {
      "cell_type": "code",
      "metadata": {
        "id": "YTQy7LX17I-J"
      },
      "source": [
        ""
      ],
      "execution_count": null,
      "outputs": []
    },
    {
      "cell_type": "code",
      "metadata": {
        "id": "lsTxqOsR9oAS"
      },
      "source": [
        "model = tf.keras.models.Sequential()\n",
        "model.add(tf.keras.layers.Input(shape=(28,28,1)))\n",
        "model.add(tf.keras.layers.Conv2D(32, (5,5), activation='relu', padding='valid'))\n",
        "model.add(tf.keras.layers.MaxPool2D(pool_size=(2,2)))\n",
        "model.add(tf.keras.layers.Conv2D(64, (5,5), activation='relu', padding='valid'))\n",
        "model.add(tf.keras.layers.MaxPool2D(pool_size=(2,2)))\n",
        "model.add(tf.keras.layers.Flatten())\n",
        "model.add(tf.keras.layers.Dense(10, activation=\"softmax\"))"
      ],
      "execution_count": null,
      "outputs": []
    },
    {
      "cell_type": "code",
      "metadata": {
        "colab": {
          "base_uri": "https://localhost:8080/"
        },
        "id": "CWawklLXDZdd",
        "outputId": "9b5aece8-1bd2-4675-8032-35ed8aa4946d"
      },
      "source": [
        "model.summary()"
      ],
      "execution_count": null,
      "outputs": [
        {
          "name": "stdout",
          "output_type": "stream",
          "text": [
            "Model: \"sequential\"\n",
            "_________________________________________________________________\n",
            "Layer (type)                 Output Shape              Param #   \n",
            "=================================================================\n",
            "conv2d (Conv2D)              (None, 24, 24, 32)        832       \n",
            "_________________________________________________________________\n",
            "max_pooling2d (MaxPooling2D) (None, 12, 12, 32)        0         \n",
            "_________________________________________________________________\n",
            "conv2d_1 (Conv2D)            (None, 8, 8, 64)          51264     \n",
            "_________________________________________________________________\n",
            "max_pooling2d_1 (MaxPooling2 (None, 4, 4, 64)          0         \n",
            "_________________________________________________________________\n",
            "flatten (Flatten)            (None, 1024)              0         \n",
            "_________________________________________________________________\n",
            "dense (Dense)                (None, 10)                10250     \n",
            "=================================================================\n",
            "Total params: 62,346\n",
            "Trainable params: 62,346\n",
            "Non-trainable params: 0\n",
            "_________________________________________________________________\n"
          ]
        }
      ]
    },
    {
      "cell_type": "code",
      "metadata": {
        "id": "G__UYsR2Di4H"
      },
      "source": [
        "model.compile(optimizer=\"SGD\", loss=tf.keras.losses.CategoricalCrossentropy(),\n",
        "              metrics=[tf.keras.metrics.Accuracy(),\n",
        "                       tf.keras.metrics.FalseNegatives()])"
      ],
      "execution_count": null,
      "outputs": []
    },
    {
      "cell_type": "code",
      "metadata": {
        "colab": {
          "background_save": true,
          "base_uri": "https://localhost:8080/"
        },
        "id": "_GPK2v_EDwlK",
        "outputId": "0c9f718b-452e-4a24-bf47-1c6abfe77cd3"
      },
      "source": [
        "history = model.fit(x=x_train, y=y_train, batch_size=32, epochs=50, shuffle=True, validation_data=(x_test, y_test))"
      ],
      "execution_count": null,
      "outputs": [
        {
          "name": "stdout",
          "output_type": "stream",
          "text": [
            "Epoch 1/50\n",
            "1875/1875 [==============================] - 63s 33ms/step - loss: 4.9495 - accuracy: 5.1333e-04 - false_negatives: 46590.0000 - val_loss: 0.6069 - val_accuracy: 0.0000e+00 - val_false_negatives: 2688.0000\n",
            "Epoch 2/50\n",
            "1875/1875 [==============================] - 61s 33ms/step - loss: 0.5197 - accuracy: 3.3333e-06 - false_negatives: 13122.0000 - val_loss: 0.4106 - val_accuracy: 0.0000e+00 - val_false_negatives: 1666.0000\n",
            "Epoch 3/50\n",
            "1875/1875 [==============================] - 61s 32ms/step - loss: 0.3948 - accuracy: 3.3333e-06 - false_negatives: 9399.0000 - val_loss: 0.3538 - val_accuracy: 0.0000e+00 - val_false_negatives: 1381.0000\n",
            "Epoch 4/50\n",
            "1875/1875 [==============================] - 61s 33ms/step - loss: 0.3377 - accuracy: 4.6667e-05 - false_negatives: 7936.0000 - val_loss: 0.2986 - val_accuracy: 3.0000e-05 - val_false_negatives: 1104.0000\n",
            "Epoch 5/50\n",
            "1875/1875 [==============================] - 61s 33ms/step - loss: 0.3062 - accuracy: 6.0000e-05 - false_negatives: 7040.0000 - val_loss: 0.2953 - val_accuracy: 1.0000e-04 - val_false_negatives: 1130.0000\n",
            "Epoch 6/50\n",
            "1875/1875 [==============================] - 61s 33ms/step - loss: 0.2827 - accuracy: 9.0000e-05 - false_negatives: 6496.0000 - val_loss: 0.2732 - val_accuracy: 0.0000e+00 - val_false_negatives: 1038.0000\n",
            "Epoch 7/50\n",
            "1875/1875 [==============================] - 61s 32ms/step - loss: 0.2685 - accuracy: 8.3333e-05 - false_negatives: 6154.0000 - val_loss: 0.2586 - val_accuracy: 1.0000e-05 - val_false_negatives: 938.0000\n",
            "Epoch 8/50\n",
            "1875/1875 [==============================] - 61s 33ms/step - loss: 0.2570 - accuracy: 1.1833e-04 - false_negatives: 5873.0000 - val_loss: 0.2518 - val_accuracy: 1.3000e-04 - val_false_negatives: 943.0000\n",
            "Epoch 9/50\n",
            "1875/1875 [==============================] - 61s 33ms/step - loss: 0.2475 - accuracy: 9.8333e-05 - false_negatives: 5639.0000 - val_loss: 0.2385 - val_accuracy: 3.0000e-05 - val_false_negatives: 903.0000\n",
            "Epoch 10/50\n",
            "1875/1875 [==============================] - 61s 33ms/step - loss: 0.2335 - accuracy: 1.2500e-04 - false_negatives: 5230.0000 - val_loss: 0.2300 - val_accuracy: 1.6000e-04 - val_false_negatives: 847.0000\n",
            "Epoch 11/50\n",
            "1875/1875 [==============================] - 61s 33ms/step - loss: 0.2282 - accuracy: 1.3000e-04 - false_negatives: 5183.0000 - val_loss: 0.2160 - val_accuracy: 8.0000e-05 - val_false_negatives: 825.0000\n",
            "Epoch 12/50\n",
            "1875/1875 [==============================] - 61s 33ms/step - loss: 0.2236 - accuracy: 1.7833e-04 - false_negatives: 5057.0000 - val_loss: 0.2140 - val_accuracy: 1.2000e-04 - val_false_negatives: 810.0000\n",
            "Epoch 13/50\n",
            "1875/1875 [==============================] - 61s 33ms/step - loss: 0.2184 - accuracy: 1.9833e-04 - false_negatives: 4950.0000 - val_loss: 0.2174 - val_accuracy: 6.0000e-05 - val_false_negatives: 813.0000\n",
            "Epoch 14/50\n",
            "1875/1875 [==============================] - 61s 33ms/step - loss: 0.2127 - accuracy: 1.6833e-04 - false_negatives: 4792.0000 - val_loss: 0.2064 - val_accuracy: 1.5000e-04 - val_false_negatives: 767.0000\n",
            "Epoch 15/50\n",
            "1875/1875 [==============================] - 61s 32ms/step - loss: 0.2038 - accuracy: 2.4667e-04 - false_negatives: 4538.0000 - val_loss: 0.2192 - val_accuracy: 1.6000e-04 - val_false_negatives: 764.0000\n",
            "Epoch 16/50\n",
            "1875/1875 [==============================] - 61s 33ms/step - loss: 0.2014 - accuracy: 2.6833e-04 - false_negatives: 4460.0000 - val_loss: 0.2138 - val_accuracy: 3.4000e-04 - val_false_negatives: 772.0000\n",
            "Epoch 17/50\n",
            "1875/1875 [==============================] - 61s 33ms/step - loss: 0.2049 - accuracy: 2.2500e-04 - false_negatives: 4580.0000 - val_loss: 0.2019 - val_accuracy: 1.0000e-04 - val_false_negatives: 753.0000\n",
            "Epoch 18/50\n",
            "1875/1875 [==============================] - 61s 33ms/step - loss: 0.1979 - accuracy: 2.6333e-04 - false_negatives: 4456.0000 - val_loss: 0.2152 - val_accuracy: 6.7000e-04 - val_false_negatives: 769.0000\n",
            "Epoch 19/50\n",
            "1875/1875 [==============================] - 61s 33ms/step - loss: 0.1960 - accuracy: 1.9333e-04 - false_negatives: 4400.0000 - val_loss: 0.1958 - val_accuracy: 1.0000e-04 - val_false_negatives: 739.0000\n",
            "Epoch 20/50\n",
            "1875/1875 [==============================] - 61s 33ms/step - loss: 0.1930 - accuracy: 2.8833e-04 - false_negatives: 4290.0000 - val_loss: 0.1877 - val_accuracy: 2.6000e-04 - val_false_negatives: 686.0000\n",
            "Epoch 21/50\n",
            "1875/1875 [==============================] - 61s 33ms/step - loss: 0.1891 - accuracy: 3.0833e-04 - false_negatives: 4253.0000 - val_loss: 0.1936 - val_accuracy: 1.2000e-04 - val_false_negatives: 709.0000\n",
            "Epoch 22/50\n",
            "1875/1875 [==============================] - 61s 33ms/step - loss: 0.1861 - accuracy: 3.5333e-04 - false_negatives: 4165.0000 - val_loss: 0.1844 - val_accuracy: 4.2000e-04 - val_false_negatives: 676.0000\n",
            "Epoch 23/50\n",
            "1875/1875 [==============================] - 61s 33ms/step - loss: 0.1814 - accuracy: 4.1500e-04 - false_negatives: 4008.0000 - val_loss: 0.1968 - val_accuracy: 1.3000e-04 - val_false_negatives: 710.0000\n",
            "Epoch 24/50\n",
            "1875/1875 [==============================] - 61s 33ms/step - loss: 0.1805 - accuracy: 4.5833e-04 - false_negatives: 4020.0000 - val_loss: 0.1921 - val_accuracy: 1.1000e-04 - val_false_negatives: 699.0000\n",
            "Epoch 25/50\n",
            "1875/1875 [==============================] - 61s 33ms/step - loss: 0.1770 - accuracy: 4.2500e-04 - false_negatives: 3898.0000 - val_loss: 0.1758 - val_accuracy: 3.3000e-04 - val_false_negatives: 628.0000\n",
            "Epoch 26/50\n",
            "1875/1875 [==============================] - 62s 33ms/step - loss: 0.1734 - accuracy: 4.7833e-04 - false_negatives: 3856.0000 - val_loss: 0.1924 - val_accuracy: 3.2000e-04 - val_false_negatives: 680.0000\n",
            "Epoch 27/50\n",
            "1875/1875 [==============================] - 61s 33ms/step - loss: 0.1721 - accuracy: 5.5167e-04 - false_negatives: 3805.0000 - val_loss: 0.1926 - val_accuracy: 2.8000e-04 - val_false_negatives: 698.0000\n",
            "Epoch 28/50\n",
            "1875/1875 [==============================] - 61s 33ms/step - loss: 0.1703 - accuracy: 5.8167e-04 - false_negatives: 3805.0000 - val_loss: 0.1869 - val_accuracy: 1.8000e-04 - val_false_negatives: 690.0000\n",
            "Epoch 29/50\n",
            "1875/1875 [==============================] - 61s 33ms/step - loss: 0.1674 - accuracy: 5.6667e-04 - false_negatives: 3715.0000 - val_loss: 0.1831 - val_accuracy: 2.5000e-04 - val_false_negatives: 669.0000\n",
            "Epoch 30/50\n",
            " 797/1875 [===========>..................] - ETA: 33s - loss: 0.1673 - accuracy: 4.3523e-04 - false_negatives: 1546.0000"
          ]
        }
      ]
    },
    {
      "cell_type": "code",
      "metadata": {
        "id": "VI88kgT5Ek-A"
      },
      "source": [
        ""
      ],
      "execution_count": null,
      "outputs": []
    },
    {
      "cell_type": "code",
      "metadata": {
        "colab": {
          "base_uri": "https://localhost:8080/",
          "height": 282
        },
        "id": "DPNXWB4tO6Zm",
        "outputId": "a0b5b636-1f27-46bc-eaf4-e02f9db28deb"
      },
      "source": [
        "plt.plot(history.history['loss'], 'r')\n",
        "plt.plot(history.history['val_loss'])"
      ],
      "execution_count": 14,
      "outputs": [
        {
          "output_type": "execute_result",
          "data": {
            "text/plain": [
              "[<matplotlib.lines.Line2D at 0x7fea527d1610>]"
            ]
          },
          "metadata": {},
          "execution_count": 14
        },
        {
          "output_type": "display_data",
          "data": {
            "image/png": "[encoded data removed]",
            "text/plain": [
              "<Figure size 432x288 with 1 Axes>"
            ]
          },
          "metadata": {
            "needs_background": "light"
          }
        }
      ]
    },
    {
      "cell_type": "code",
      "metadata": {
        "id": "jXwG0fMGO7h1"
      },
      "source": [
        ""
      ],
      "execution_count": null,
      "outputs": []
    }
  ]
}