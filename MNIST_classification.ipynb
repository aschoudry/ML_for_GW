{
  "nbformat": 4,
  "nbformat_minor": 0,
  "metadata": {
    "colab": {
      "name": "MNIST_classification.ipynb",
      "provenance": [],
      "authorship_tag": "ABX9TyO23CJcer6x9p3NVul7V0NO",
      "include_colab_link": true
    },
    "kernelspec": {
      "name": "python3",
      "display_name": "Python 3"
    },
    "language_info": {
      "name": "python"
    },
    "accelerator": "GPU"
  },
  "cells": [
    {
      "cell_type": "markdown",
      "metadata": {
        "id": "view-in-github",
        "colab_type": "text"
      },
      "source": [
        "<a href=\"https://colab.research.google.com/github/aschoudry/ML_imageClassifier/blob/main/MNIST_classification.ipynb\" target=\"_parent\"><img src=\"https://colab.research.google.com/assets/colab-badge.svg\" alt=\"Open In Colab\"/></a>"
      ]
    },
    {
      "cell_type": "code",
      "metadata": {
        "id": "2Eg_0166Q-cW"
      },
      "source": [
        "%matplotlib inline\n",
        "import tensorflow as tf\n",
        "from tensorflow import keras\n",
        "import matplotlib.pyplot as plt\n",
        "import random"
      ],
      "execution_count": 1,
      "outputs": []
    },
    {
      "cell_type": "code",
      "metadata": {
        "colab": {
          "base_uri": "https://localhost:8080/",
          "height": 35
        },
        "id": "r69fwreM2kep",
        "outputId": "6404ad45-bc02-45a5-a94d-93db7818474d"
      },
      "source": [
        "tf.__version__"
      ],
      "execution_count": 2,
      "outputs": [
        {
          "output_type": "execute_result",
          "data": {
            "application/vnd.google.colaboratory.intrinsic+json": {
              "type": "string"
            },
            "text/plain": [
              "'2.6.0'"
            ]
          },
          "metadata": {},
          "execution_count": 2
        }
      ]
    },
    {
      "cell_type": "code",
      "metadata": {
        "colab": {
          "base_uri": "https://localhost:8080/"
        },
        "id": "gRytk2zUBXJA",
        "outputId": "9ca030df-27d2-4af5-a729-e751dd9669f7"
      },
      "source": [
        "(x_train, y_train), (x_test, y_test) = keras.datasets.mnist.load_data()\n"
      ],
      "execution_count": 3,
      "outputs": [
        {
          "output_type": "stream",
          "name": "stdout",
          "text": [
            "Downloading data from https://storage.googleapis.com/tensorflow/tf-keras-datasets/mnist.npz\n",
            "11493376/11490434 [==============================] - 0s 0us/step\n",
            "11501568/11490434 [==============================] - 0s 0us/step\n"
          ]
        }
      ]
    },
    {
      "cell_type": "code",
      "metadata": {
        "colab": {
          "base_uri": "https://localhost:8080/",
          "height": 265
        },
        "id": "ifdriCt6I8zN",
        "outputId": "a5cd3387-c5c1-4500-a01b-5e7b2b084d3b"
      },
      "source": [
        "fig, ax = plt.subplots()\n",
        "im = ax.imshow(x_train[7])\n",
        "\n",
        "plt.show()"
      ],
      "execution_count": 4,
      "outputs": [
        {
          "output_type": "display_data",
          "data": {
            "image/png": "[encoded data removed]",
            "text/plain": [
              "<Figure size 432x288 with 1 Axes>"
            ]
          },
          "metadata": {
            "needs_background": "light"
          }
        }
      ]
    },
    {
      "cell_type": "code",
      "metadata": {
        "colab": {
          "base_uri": "https://localhost:8080/"
        },
        "id": "WjPoNhw_uZNX",
        "outputId": "3659a6f2-a3b3-4c23-e069-c92436dcebd2"
      },
      "source": [
        "x_train.shape"
      ],
      "execution_count": 5,
      "outputs": [
        {
          "output_type": "execute_result",
          "data": {
            "text/plain": [
              "(60000, 28, 28)"
            ]
          },
          "metadata": {},
          "execution_count": 5
        }
      ]
    },
    {
      "cell_type": "code",
      "metadata": {
        "id": "uurK5Du6ucuL"
      },
      "source": [
        "x_train = x_train.reshape(60000, 784)\n",
        "x_test = x_test.reshape(10000, 784)"
      ],
      "execution_count": 6,
      "outputs": []
    },
    {
      "cell_type": "code",
      "metadata": {
        "id": "1M1pCceiBdIV"
      },
      "source": [
        "from tensorflow.keras.utils import to_categorical\n",
        "y_train = to_categorical(y_train)\n"
      ],
      "execution_count": 7,
      "outputs": []
    },
    {
      "cell_type": "code",
      "metadata": {
        "id": "sU-qipfs1ieo"
      },
      "source": [
        "y_test = to_categorical(y_test)"
      ],
      "execution_count": 8,
      "outputs": []
    },
    {
      "cell_type": "code",
      "metadata": {
        "colab": {
          "base_uri": "https://localhost:8080/"
        },
        "id": "EAxe0Uk11TgV",
        "outputId": "ccd27a04-7d97-4967-eb31-bc45c08da3b0"
      },
      "source": [
        "y_train.shape"
      ],
      "execution_count": 9,
      "outputs": [
        {
          "output_type": "execute_result",
          "data": {
            "text/plain": [
              "(60000, 10)"
            ]
          },
          "metadata": {},
          "execution_count": 9
        }
      ]
    },
    {
      "cell_type": "code",
      "metadata": {
        "id": "fbzzb8gm9vgc"
      },
      "source": [
        ""
      ],
      "execution_count": 9,
      "outputs": []
    },
    {
      "cell_type": "code",
      "metadata": {
        "id": "JNoUBAInufeL"
      },
      "source": [
        "model = tf.keras.models.Sequential()\n",
        "model.add(tf.keras.layers.Input(shape=(784,)))\n",
        "model.add(tf.keras.layers.Dense(10, activation=\"softmax\"))"
      ],
      "execution_count": 10,
      "outputs": []
    },
    {
      "cell_type": "code",
      "metadata": {
        "colab": {
          "base_uri": "https://localhost:8080/"
        },
        "id": "yoQkn5OOuhdV",
        "outputId": "35fbeb64-8d7d-451c-9d37-dbfe7faf00bb"
      },
      "source": [
        "model.summary()"
      ],
      "execution_count": 11,
      "outputs": [
        {
          "output_type": "stream",
          "name": "stdout",
          "text": [
            "Model: \"sequential\"\n",
            "_________________________________________________________________\n",
            "Layer (type)                 Output Shape              Param #   \n",
            "=================================================================\n",
            "dense (Dense)                (None, 10)                7850      \n",
            "=================================================================\n",
            "Total params: 7,850\n",
            "Trainable params: 7,850\n",
            "Non-trainable params: 0\n",
            "_________________________________________________________________\n"
          ]
        }
      ]
    },
    {
      "cell_type": "code",
      "metadata": {
        "id": "9cuPtnGjvXjv"
      },
      "source": [
        "model.compile(optimizer=\"Adam\",\n",
        "              loss=tf.keras.losses.CategoricalCrossentropy(),\n",
        "              metrics=[tf.keras.metrics.Accuracy(),\n",
        "                       tf.keras.metrics.FalseNegatives()])"
      ],
      "execution_count": 12,
      "outputs": []
    },
    {
      "cell_type": "code",
      "metadata": {
        "colab": {
          "base_uri": "https://localhost:8080/"
        },
        "id": "TzFVM5RRyxWH",
        "outputId": "05983788-3a46-44ee-f354-88c8dbf7f078"
      },
      "source": [
        "history = model.fit(x=x_train, y=y_train, batch_size=32, epochs=50, shuffle=True, validation_data=(x_test, y_test))"
      ],
      "execution_count": 13,
      "outputs": [
        {
          "output_type": "stream",
          "name": "stdout",
          "text": [
            "Epoch 1/50\n",
            "1875/1875 [==============================] - 10s 4ms/step - loss: 9.8550 - accuracy: 0.8671 - false_negatives: 9730.0000 - val_loss: 5.9111 - val_accuracy: 0.8862 - val_false_negatives: 1128.0000\n",
            "Epoch 2/50\n",
            "1875/1875 [==============================] - 7s 4ms/step - loss: 6.0219 - accuracy: 0.8758 - false_negatives: 7293.0000 - val_loss: 5.4200 - val_accuracy: 0.8813 - val_false_negatives: 1101.0000\n",
            "Epoch 3/50\n",
            "1875/1875 [==============================] - 8s 4ms/step - loss: 5.7284 - accuracy: 0.8747 - false_negatives: 6988.0000 - val_loss: 6.3618 - val_accuracy: 0.8939 - val_false_negatives: 1187.0000\n",
            "Epoch 4/50\n",
            "1875/1875 [==============================] - 7s 4ms/step - loss: 5.5349 - accuracy: 0.8754 - false_negatives: 6902.0000 - val_loss: 5.3771 - val_accuracy: 0.8865 - val_false_negatives: 1042.0000\n",
            "Epoch 5/50\n",
            "1875/1875 [==============================] - 7s 4ms/step - loss: 5.3516 - accuracy: 0.8744 - false_negatives: 6822.0000 - val_loss: 6.4854 - val_accuracy: 0.8827 - val_false_negatives: 1241.0000\n",
            "Epoch 6/50\n",
            "1875/1875 [==============================] - 7s 4ms/step - loss: 5.2709 - accuracy: 0.8732 - false_negatives: 6787.0000 - val_loss: 5.8733 - val_accuracy: 0.8760 - val_false_negatives: 1161.0000\n",
            "Epoch 7/50\n",
            "1875/1875 [==============================] - 7s 4ms/step - loss: 5.2669 - accuracy: 0.8780 - false_negatives: 6707.0000 - val_loss: 6.2321 - val_accuracy: 0.8733 - val_false_negatives: 1134.0000\n",
            "Epoch 8/50\n",
            "1875/1875 [==============================] - 7s 4ms/step - loss: 5.1950 - accuracy: 0.8785 - false_negatives: 6690.0000 - val_loss: 5.2435 - val_accuracy: 0.8962 - val_false_negatives: 987.0000\n",
            "Epoch 9/50\n",
            "1875/1875 [==============================] - 7s 4ms/step - loss: 5.1445 - accuracy: 0.8816 - false_negatives: 6574.0000 - val_loss: 5.9894 - val_accuracy: 0.8892 - val_false_negatives: 1110.0000\n",
            "Epoch 10/50\n",
            "1875/1875 [==============================] - 7s 4ms/step - loss: 5.2958 - accuracy: 0.8851 - false_negatives: 6633.0000 - val_loss: 6.1537 - val_accuracy: 0.8894 - val_false_negatives: 1140.0000\n",
            "Epoch 11/50\n",
            "1875/1875 [==============================] - 7s 4ms/step - loss: 5.1114 - accuracy: 0.8832 - false_negatives: 6512.0000 - val_loss: 5.5954 - val_accuracy: 0.8671 - val_false_negatives: 1087.0000\n",
            "Epoch 12/50\n",
            "1875/1875 [==============================] - 7s 4ms/step - loss: 5.1498 - accuracy: 0.8826 - false_negatives: 6545.0000 - val_loss: 5.8096 - val_accuracy: 0.8966 - val_false_negatives: 1036.0000\n",
            "Epoch 13/50\n",
            "1875/1875 [==============================] - 8s 4ms/step - loss: 5.1255 - accuracy: 0.8867 - false_negatives: 6510.0000 - val_loss: 6.0483 - val_accuracy: 0.8973 - val_false_negatives: 1082.0000\n",
            "Epoch 14/50\n",
            "1875/1875 [==============================] - 7s 4ms/step - loss: 5.1850 - accuracy: 0.8856 - false_negatives: 6505.0000 - val_loss: 6.1199 - val_accuracy: 0.8900 - val_false_negatives: 1146.0000\n",
            "Epoch 15/50\n",
            "1875/1875 [==============================] - 7s 4ms/step - loss: 4.9952 - accuracy: 0.8828 - false_negatives: 6500.0000 - val_loss: 5.8523 - val_accuracy: 0.9030 - val_false_negatives: 1035.0000\n",
            "Epoch 16/50\n",
            "1875/1875 [==============================] - 7s 4ms/step - loss: 5.2332 - accuracy: 0.8883 - false_negatives: 6438.0000 - val_loss: 6.0396 - val_accuracy: 0.8933 - val_false_negatives: 1161.0000\n",
            "Epoch 17/50\n",
            "1875/1875 [==============================] - 7s 4ms/step - loss: 5.1439 - accuracy: 0.8871 - false_negatives: 6443.0000 - val_loss: 6.3487 - val_accuracy: 0.8865 - val_false_negatives: 1070.0000\n",
            "Epoch 18/50\n",
            "1875/1875 [==============================] - 7s 4ms/step - loss: 5.1258 - accuracy: 0.8877 - false_negatives: 6408.0000 - val_loss: 6.6169 - val_accuracy: 0.8900 - val_false_negatives: 1201.0000\n",
            "Epoch 19/50\n",
            "1875/1875 [==============================] - 8s 4ms/step - loss: 5.2287 - accuracy: 0.8887 - false_negatives: 6508.0000 - val_loss: 6.8479 - val_accuracy: 0.9038 - val_false_negatives: 1131.0000\n",
            "Epoch 20/50\n",
            "1875/1875 [==============================] - 7s 4ms/step - loss: 5.0984 - accuracy: 0.8918 - false_negatives: 6392.0000 - val_loss: 6.5180 - val_accuracy: 0.8983 - val_false_negatives: 1112.0000\n",
            "Epoch 21/50\n",
            "1875/1875 [==============================] - 7s 4ms/step - loss: 4.9829 - accuracy: 0.8889 - false_negatives: 6304.0000 - val_loss: 7.4753 - val_accuracy: 0.8935 - val_false_negatives: 1224.0000\n",
            "Epoch 22/50\n",
            "1875/1875 [==============================] - 7s 4ms/step - loss: 5.0809 - accuracy: 0.8908 - false_negatives: 6368.0000 - val_loss: 6.1679 - val_accuracy: 0.8973 - val_false_negatives: 1053.0000\n",
            "Epoch 23/50\n",
            "1875/1875 [==============================] - 7s 4ms/step - loss: 5.2271 - accuracy: 0.8938 - false_negatives: 6421.0000 - val_loss: 6.2241 - val_accuracy: 0.8943 - val_false_negatives: 1070.0000\n",
            "Epoch 24/50\n",
            "1875/1875 [==============================] - 7s 4ms/step - loss: 5.0899 - accuracy: 0.8913 - false_negatives: 6339.0000 - val_loss: 6.6270 - val_accuracy: 0.8808 - val_false_negatives: 1158.0000\n",
            "Epoch 25/50\n",
            "1875/1875 [==============================] - 7s 4ms/step - loss: 5.1772 - accuracy: 0.8938 - false_negatives: 6295.0000 - val_loss: 6.4156 - val_accuracy: 0.8966 - val_false_negatives: 1115.0000\n",
            "Epoch 26/50\n",
            "1875/1875 [==============================] - 7s 4ms/step - loss: 5.2123 - accuracy: 0.8948 - false_negatives: 6420.0000 - val_loss: 6.0988 - val_accuracy: 0.8844 - val_false_negatives: 1075.0000\n",
            "Epoch 27/50\n",
            "1875/1875 [==============================] - 8s 4ms/step - loss: 5.1410 - accuracy: 0.8939 - false_negatives: 6330.0000 - val_loss: 6.2055 - val_accuracy: 0.8979 - val_false_negatives: 1106.0000\n",
            "Epoch 28/50\n",
            "1875/1875 [==============================] - 7s 4ms/step - loss: 5.0436 - accuracy: 0.8930 - false_negatives: 6379.0000 - val_loss: 5.9352 - val_accuracy: 0.9026 - val_false_negatives: 943.0000\n",
            "Epoch 29/50\n",
            "1875/1875 [==============================] - 7s 4ms/step - loss: 5.1296 - accuracy: 0.8939 - false_negatives: 6353.0000 - val_loss: 6.6383 - val_accuracy: 0.8888 - val_false_negatives: 1127.0000\n",
            "Epoch 30/50\n",
            "1875/1875 [==============================] - 8s 4ms/step - loss: 5.1830 - accuracy: 0.8943 - false_negatives: 6296.0000 - val_loss: 6.1705 - val_accuracy: 0.9036 - val_false_negatives: 1034.0000\n",
            "Epoch 31/50\n",
            "1875/1875 [==============================] - 7s 4ms/step - loss: 5.0484 - accuracy: 0.8942 - false_negatives: 6325.0000 - val_loss: 7.1858 - val_accuracy: 0.9043 - val_false_negatives: 1155.0000\n",
            "Epoch 32/50\n",
            "1875/1875 [==============================] - 8s 4ms/step - loss: 5.1126 - accuracy: 0.8957 - false_negatives: 6317.0000 - val_loss: 6.6504 - val_accuracy: 0.8978 - val_false_negatives: 1151.0000\n",
            "Epoch 33/50\n",
            "1875/1875 [==============================] - 7s 4ms/step - loss: 5.1434 - accuracy: 0.8934 - false_negatives: 6331.0000 - val_loss: 6.1091 - val_accuracy: 0.8996 - val_false_negatives: 947.0000\n",
            "Epoch 34/50\n",
            "1875/1875 [==============================] - 7s 4ms/step - loss: 5.0467 - accuracy: 0.8931 - false_negatives: 6217.0000 - val_loss: 6.0677 - val_accuracy: 0.8967 - val_false_negatives: 1007.0000\n",
            "Epoch 35/50\n",
            "1875/1875 [==============================] - 7s 4ms/step - loss: 5.0442 - accuracy: 0.8916 - false_negatives: 6297.0000 - val_loss: 7.4524 - val_accuracy: 0.8936 - val_false_negatives: 1181.0000\n",
            "Epoch 36/50\n",
            "1875/1875 [==============================] - 7s 4ms/step - loss: 5.2607 - accuracy: 0.8972 - false_negatives: 6401.0000 - val_loss: 6.8461 - val_accuracy: 0.9005 - val_false_negatives: 1100.0000\n",
            "Epoch 37/50\n",
            "1875/1875 [==============================] - 8s 4ms/step - loss: 5.0507 - accuracy: 0.8951 - false_negatives: 6253.0000 - val_loss: 6.7277 - val_accuracy: 0.8912 - val_false_negatives: 1101.0000\n",
            "Epoch 38/50\n",
            "1875/1875 [==============================] - 7s 4ms/step - loss: 5.0676 - accuracy: 0.8978 - false_negatives: 6330.0000 - val_loss: 6.5199 - val_accuracy: 0.9056 - val_false_negatives: 1033.0000\n",
            "Epoch 39/50\n",
            "1875/1875 [==============================] - 7s 4ms/step - loss: 5.1731 - accuracy: 0.9000 - false_negatives: 6284.0000 - val_loss: 6.8414 - val_accuracy: 0.9104 - val_false_negatives: 1041.0000\n",
            "Epoch 40/50\n",
            "1875/1875 [==============================] - 7s 4ms/step - loss: 5.1623 - accuracy: 0.8980 - false_negatives: 6284.0000 - val_loss: 6.8254 - val_accuracy: 0.9038 - val_false_negatives: 1131.0000\n",
            "Epoch 41/50\n",
            "1875/1875 [==============================] - 7s 4ms/step - loss: 5.1137 - accuracy: 0.8962 - false_negatives: 6302.0000 - val_loss: 6.7434 - val_accuracy: 0.9076 - val_false_negatives: 1068.0000\n",
            "Epoch 42/50\n",
            "1875/1875 [==============================] - 7s 4ms/step - loss: 5.2117 - accuracy: 0.8994 - false_negatives: 6304.0000 - val_loss: 6.7012 - val_accuracy: 0.9069 - val_false_negatives: 1051.0000\n",
            "Epoch 43/50\n",
            "1875/1875 [==============================] - 7s 4ms/step - loss: 5.1904 - accuracy: 0.8993 - false_negatives: 6300.0000 - val_loss: 7.2122 - val_accuracy: 0.9002 - val_false_negatives: 1221.0000\n",
            "Epoch 44/50\n",
            "1875/1875 [==============================] - 7s 4ms/step - loss: 5.1097 - accuracy: 0.9008 - false_negatives: 6205.0000 - val_loss: 6.1771 - val_accuracy: 0.9028 - val_false_negatives: 1080.0000\n",
            "Epoch 45/50\n",
            "1875/1875 [==============================] - 8s 4ms/step - loss: 5.1137 - accuracy: 0.8986 - false_negatives: 6220.0000 - val_loss: 7.3487 - val_accuracy: 0.8903 - val_false_negatives: 1200.0000\n",
            "Epoch 46/50\n",
            "1875/1875 [==============================] - 8s 4ms/step - loss: 5.1041 - accuracy: 0.8967 - false_negatives: 6209.0000 - val_loss: 6.9463 - val_accuracy: 0.9031 - val_false_negatives: 1140.0000\n",
            "Epoch 47/50\n",
            "1875/1875 [==============================] - 7s 4ms/step - loss: 5.0681 - accuracy: 0.8966 - false_negatives: 6220.0000 - val_loss: 7.5001 - val_accuracy: 0.8892 - val_false_negatives: 1273.0000\n",
            "Epoch 48/50\n",
            "1875/1875 [==============================] - 7s 4ms/step - loss: 5.1333 - accuracy: 0.8962 - false_negatives: 6269.0000 - val_loss: 7.0149 - val_accuracy: 0.9056 - val_false_negatives: 1198.0000\n",
            "Epoch 49/50\n",
            "1875/1875 [==============================] - 7s 4ms/step - loss: 5.1131 - accuracy: 0.8962 - false_negatives: 6313.0000 - val_loss: 6.4213 - val_accuracy: 0.9039 - val_false_negatives: 1053.0000\n",
            "Epoch 50/50\n",
            "1875/1875 [==============================] - 7s 4ms/step - loss: 5.1728 - accuracy: 0.8989 - false_negatives: 6327.0000 - val_loss: 9.5746 - val_accuracy: 0.8839 - val_false_negatives: 1533.0000\n"
          ]
        }
      ]
    },
    {
      "cell_type": "code",
      "metadata": {
        "colab": {
          "base_uri": "https://localhost:8080/"
        },
        "id": "ICSF5WPN1tlJ",
        "outputId": "0d628621-3214-41fb-b6e7-027b1b813078"
      },
      "source": [
        "x_train.shape"
      ],
      "execution_count": 14,
      "outputs": [
        {
          "output_type": "execute_result",
          "data": {
            "text/plain": [
              "(60000, 784)"
            ]
          },
          "metadata": {},
          "execution_count": 14
        }
      ]
    },
    {
      "cell_type": "code",
      "metadata": {
        "id": "AfnYWuXp1zNT"
      },
      "source": [
        "y_predict  = model.predict(x_test)"
      ],
      "execution_count": 21,
      "outputs": []
    },
    {
      "cell_type": "code",
      "metadata": {
        "colab": {
          "base_uri": "https://localhost:8080/"
        },
        "id": "tiQaN4_u6q6n",
        "outputId": "cf837f83-2737-4705-c608-5f1ef8d5340f"
      },
      "source": [
        "y_predict[2]"
      ],
      "execution_count": 23,
      "outputs": [
        {
          "output_type": "execute_result",
          "data": {
            "text/plain": [
              "array([0.0000000e+00, 1.0000000e+00, 0.0000000e+00, 3.5091181e-35,\n",
              "       0.0000000e+00, 0.0000000e+00, 0.0000000e+00, 0.0000000e+00,\n",
              "       4.7083056e-22, 0.0000000e+00], dtype=float32)"
            ]
          },
          "metadata": {},
          "execution_count": 23
        }
      ]
    },
    {
      "cell_type": "code",
      "metadata": {
        "colab": {
          "base_uri": "https://localhost:8080/"
        },
        "id": "n4vOyoMK7D0V",
        "outputId": "5fca41e3-f10e-4b0e-dc87-b2516e8ce336"
      },
      "source": [
        "x_test[6].shape"
      ],
      "execution_count": 20,
      "outputs": [
        {
          "output_type": "execute_result",
          "data": {
            "text/plain": [
              "(784,)"
            ]
          },
          "metadata": {},
          "execution_count": 20
        }
      ]
    },
    {
      "cell_type": "code",
      "metadata": {
        "id": "YTQy7LX17I-J"
      },
      "source": [
        ""
      ],
      "execution_count": null,
      "outputs": []
    }
  ]
}