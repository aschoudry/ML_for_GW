{
  "nbformat": 4,
  "nbformat_minor": 0,
  "metadata": {
    "colab": {
      "name": "MNIST_classification.ipynb",
      "provenance": [],
      "authorship_tag": "ABX9TyOaW2raExkM1NEfV1DlrI94",
      "include_colab_link": true
    },
    "kernelspec": {
      "name": "python3",
      "display_name": "Python 3"
    },
    "language_info": {
      "name": "python"
    },
    "accelerator": "GPU"
  },
  "cells": [
    {
      "cell_type": "markdown",
      "metadata": {
        "id": "view-in-github",
        "colab_type": "text"
      },
      "source": [
        "<a href=\"https://colab.research.google.com/github/aschoudry/ML_imageClassifier/blob/main/MNIST_classification.ipynb\" target=\"_parent\"><img src=\"https://colab.research.google.com/assets/colab-badge.svg\" alt=\"Open In Colab\"/></a>"
      ]
    },
    {
      "cell_type": "code",
      "metadata": {
        "id": "2Eg_0166Q-cW"
      },
      "source": [
        "%matplotlib inline\n",
        "import tensorflow as tf\n",
        "from tensorflow import keras\n",
        "import matplotlib.pyplot as plt\n",
        "import random"
      ],
      "execution_count": 1,
      "outputs": []
    },
    {
      "cell_type": "code",
      "metadata": {
        "colab": {
          "base_uri": "https://localhost:8080/",
          "height": 35
        },
        "id": "r69fwreM2kep",
        "outputId": "9adc88e1-32f3-429b-b90d-235e3fb2d060"
      },
      "source": [
        "tf.__version__"
      ],
      "execution_count": 2,
      "outputs": [
        {
          "output_type": "execute_result",
          "data": {
            "application/vnd.google.colaboratory.intrinsic+json": {
              "type": "string"
            },
            "text/plain": [
              "'2.6.0'"
            ]
          },
          "metadata": {},
          "execution_count": 2
        }
      ]
    },
    {
      "cell_type": "code",
      "metadata": {
        "colab": {
          "base_uri": "https://localhost:8080/"
        },
        "id": "gRytk2zUBXJA",
        "outputId": "753b9929-94b7-4601-9acf-9f8f2defd52d"
      },
      "source": [
        "(x_train, y_train), (x_test, y_test) = keras.datasets.mnist.load_data()\n"
      ],
      "execution_count": 3,
      "outputs": [
        {
          "output_type": "stream",
          "name": "stdout",
          "text": [
            "Downloading data from https://storage.googleapis.com/tensorflow/tf-keras-datasets/mnist.npz\n",
            "11493376/11490434 [==============================] - 0s 0us/step\n",
            "11501568/11490434 [==============================] - 0s 0us/step\n"
          ]
        }
      ]
    },
    {
      "cell_type": "code",
      "metadata": {
        "colab": {
          "base_uri": "https://localhost:8080/",
          "height": 265
        },
        "id": "ifdriCt6I8zN",
        "outputId": "b94c5416-4256-48b0-daee-b3ae1feb13b0"
      },
      "source": [
        "fig, ax = plt.subplots()\n",
        "im = ax.imshow(x_train[7])\n",
        "\n",
        "plt.show()"
      ],
      "execution_count": 4,
      "outputs": [
        {
          "output_type": "display_data",
          "data": {
            "image/png": "[encoded data removed]",
            "text/plain": [
              "<Figure size 432x288 with 1 Axes>"
            ]
          },
          "metadata": {
            "needs_background": "light"
          }
        }
      ]
    },
    {
      "cell_type": "code",
      "metadata": {
        "colab": {
          "base_uri": "https://localhost:8080/"
        },
        "id": "WjPoNhw_uZNX",
        "outputId": "28350ba0-6265-4864-a9c5-879e58c65398"
      },
      "source": [
        "x_train.shape"
      ],
      "execution_count": 5,
      "outputs": [
        {
          "output_type": "execute_result",
          "data": {
            "text/plain": [
              "(60000, 28, 28)"
            ]
          },
          "metadata": {},
          "execution_count": 5
        }
      ]
    },
    {
      "cell_type": "code",
      "metadata": {
        "id": "uurK5Du6ucuL"
      },
      "source": [
        "x_train = x_train.reshape(60000, 784)\n",
        "x_test = x_test.reshape(10000, 784)"
      ],
      "execution_count": 6,
      "outputs": []
    },
    {
      "cell_type": "code",
      "metadata": {
        "id": "1M1pCceiBdIV"
      },
      "source": [
        "from tensorflow.keras.utils import to_categorical\n",
        "y_train = to_categorical(y_train)\n"
      ],
      "execution_count": 7,
      "outputs": []
    },
    {
      "cell_type": "code",
      "metadata": {
        "id": "sU-qipfs1ieo"
      },
      "source": [
        "y_test = to_categorical(y_test)"
      ],
      "execution_count": 8,
      "outputs": []
    },
    {
      "cell_type": "code",
      "metadata": {
        "colab": {
          "base_uri": "https://localhost:8080/"
        },
        "id": "EAxe0Uk11TgV",
        "outputId": "00ce7354-321d-40d9-e8c9-f78c55b8bd09"
      },
      "source": [
        "y_train.shape"
      ],
      "execution_count": 9,
      "outputs": [
        {
          "output_type": "execute_result",
          "data": {
            "text/plain": [
              "(60000, 10)"
            ]
          },
          "metadata": {},
          "execution_count": 9
        }
      ]
    },
    {
      "cell_type": "code",
      "metadata": {
        "id": "JNoUBAInufeL"
      },
      "source": [
        "model = tf.keras.models.Sequential()\n",
        "model.add(tf.keras.layers.Input(shape=(784,)))\n",
        "model.add(tf.keras.layers.Dense(30, activation=\"relu\"))\n",
        "model.add(tf.keras.layers.Dense(30, activation=\"relu\"))\n",
        "model.add(tf.keras.layers.Dense(30, activation=\"relu\"))\n",
        "model.add(tf.keras.layers.Dense(10, activation=\"softmax\"))"
      ],
      "execution_count": 20,
      "outputs": []
    },
    {
      "cell_type": "code",
      "metadata": {
        "colab": {
          "base_uri": "https://localhost:8080/"
        },
        "id": "yoQkn5OOuhdV",
        "outputId": "1c9468a1-8fca-4f15-959a-59f6f2f6c239"
      },
      "source": [
        "model.summary()"
      ],
      "execution_count": 21,
      "outputs": [
        {
          "output_type": "stream",
          "name": "stdout",
          "text": [
            "Model: \"sequential_2\"\n",
            "_________________________________________________________________\n",
            "Layer (type)                 Output Shape              Param #   \n",
            "=================================================================\n",
            "dense_3 (Dense)              (None, 30)                23550     \n",
            "_________________________________________________________________\n",
            "dense_4 (Dense)              (None, 30)                930       \n",
            "_________________________________________________________________\n",
            "dense_5 (Dense)              (None, 30)                930       \n",
            "_________________________________________________________________\n",
            "dense_6 (Dense)              (None, 10)                310       \n",
            "=================================================================\n",
            "Total params: 25,720\n",
            "Trainable params: 25,720\n",
            "Non-trainable params: 0\n",
            "_________________________________________________________________\n"
          ]
        }
      ]
    },
    {
      "cell_type": "code",
      "metadata": {
        "id": "9cuPtnGjvXjv"
      },
      "source": [
        "model.compile(optimizer=\"Adam\",\n",
        "              loss=tf.keras.losses.CategoricalCrossentropy(),\n",
        "              metrics=[tf.keras.metrics.Accuracy(),\n",
        "                       tf.keras.metrics.FalseNegatives()])"
      ],
      "execution_count": 22,
      "outputs": []
    },
    {
      "cell_type": "code",
      "metadata": {
        "colab": {
          "base_uri": "https://localhost:8080/"
        },
        "id": "TzFVM5RRyxWH",
        "outputId": "efea4e33-e2c8-4539-f5ec-b1bda31f2bd6"
      },
      "source": [
        "history = model.fit(x=x_train, y=y_train, batch_size=32, epochs=50, shuffle=True, validation_data=(x_test, y_test))"
      ],
      "execution_count": 24,
      "outputs": [
        {
          "output_type": "stream",
          "name": "stdout",
          "text": [
            "Epoch 1/50\n",
            "1875/1875 [==============================] - 8s 4ms/step - loss: 0.1774 - accuracy: 0.0036 - false_negatives_2: 3678.0000 - val_loss: 0.2163 - val_accuracy: 0.0016 - val_false_negatives_2: 675.0000\n",
            "Epoch 2/50\n",
            "1875/1875 [==============================] - 8s 5ms/step - loss: 0.1645 - accuracy: 0.0030 - false_negatives_2: 3349.0000 - val_loss: 0.1948 - val_accuracy: 0.0028 - val_false_negatives_2: 626.0000\n",
            "Epoch 3/50\n",
            "1875/1875 [==============================] - 9s 5ms/step - loss: 0.1618 - accuracy: 0.0031 - false_negatives_2: 3239.0000 - val_loss: 0.2019 - val_accuracy: 0.0018 - val_false_negatives_2: 595.0000\n",
            "Epoch 4/50\n",
            "1875/1875 [==============================] - 9s 5ms/step - loss: 0.1542 - accuracy: 0.0033 - false_negatives_2: 3171.0000 - val_loss: 0.1995 - val_accuracy: 0.0029 - val_false_negatives_2: 582.0000\n",
            "Epoch 5/50\n",
            "1875/1875 [==============================] - 8s 5ms/step - loss: 0.1502 - accuracy: 0.0040 - false_negatives_2: 3042.0000 - val_loss: 0.2113 - val_accuracy: 0.0040 - val_false_negatives_2: 592.0000\n",
            "Epoch 6/50\n",
            "1875/1875 [==============================] - 8s 4ms/step - loss: 0.1475 - accuracy: 0.0034 - false_negatives_2: 2957.0000 - val_loss: 0.2145 - val_accuracy: 0.0026 - val_false_negatives_2: 661.0000\n",
            "Epoch 7/50\n",
            "1875/1875 [==============================] - 8s 4ms/step - loss: 0.1417 - accuracy: 0.0048 - false_negatives_2: 2874.0000 - val_loss: 0.2061 - val_accuracy: 0.0033 - val_false_negatives_2: 631.0000\n",
            "Epoch 8/50\n",
            "1875/1875 [==============================] - 8s 4ms/step - loss: 0.1389 - accuracy: 0.0045 - false_negatives_2: 2793.0000 - val_loss: 0.2045 - val_accuracy: 0.0047 - val_false_negatives_2: 578.0000\n",
            "Epoch 9/50\n",
            "1875/1875 [==============================] - 9s 5ms/step - loss: 0.1356 - accuracy: 0.0058 - false_negatives_2: 2708.0000 - val_loss: 0.1999 - val_accuracy: 0.0023 - val_false_negatives_2: 583.0000\n",
            "Epoch 10/50\n",
            "1875/1875 [==============================] - 9s 5ms/step - loss: 0.1330 - accuracy: 0.0064 - false_negatives_2: 2661.0000 - val_loss: 0.1885 - val_accuracy: 0.0041 - val_false_negatives_2: 542.0000\n",
            "Epoch 11/50\n",
            "1875/1875 [==============================] - 9s 5ms/step - loss: 0.1292 - accuracy: 0.0056 - false_negatives_2: 2558.0000 - val_loss: 0.2073 - val_accuracy: 0.0043 - val_false_negatives_2: 550.0000\n",
            "Epoch 12/50\n",
            "1875/1875 [==============================] - 9s 5ms/step - loss: 0.1254 - accuracy: 0.0057 - false_negatives_2: 2504.0000 - val_loss: 0.1934 - val_accuracy: 0.0059 - val_false_negatives_2: 539.0000\n",
            "Epoch 13/50\n",
            "1875/1875 [==============================] - 8s 4ms/step - loss: 0.1234 - accuracy: 0.0078 - false_negatives_2: 2421.0000 - val_loss: 0.2225 - val_accuracy: 0.0064 - val_false_negatives_2: 614.0000\n",
            "Epoch 14/50\n",
            "1875/1875 [==============================] - 9s 5ms/step - loss: 0.1213 - accuracy: 0.0066 - false_negatives_2: 2432.0000 - val_loss: 0.2018 - val_accuracy: 0.0045 - val_false_negatives_2: 560.0000\n",
            "Epoch 15/50\n",
            "1875/1875 [==============================] - 9s 5ms/step - loss: 0.1204 - accuracy: 0.0086 - false_negatives_2: 2377.0000 - val_loss: 0.1892 - val_accuracy: 0.0059 - val_false_negatives_2: 553.0000\n",
            "Epoch 16/50\n",
            "1875/1875 [==============================] - 9s 5ms/step - loss: 0.1162 - accuracy: 0.0089 - false_negatives_2: 2308.0000 - val_loss: 0.2110 - val_accuracy: 0.0075 - val_false_negatives_2: 573.0000\n",
            "Epoch 17/50\n",
            "1875/1875 [==============================] - 9s 5ms/step - loss: 0.1161 - accuracy: 0.0110 - false_negatives_2: 2337.0000 - val_loss: 0.2121 - val_accuracy: 0.0130 - val_false_negatives_2: 577.0000\n",
            "Epoch 18/50\n",
            "1875/1875 [==============================] - 9s 5ms/step - loss: 0.1110 - accuracy: 0.0116 - false_negatives_2: 2292.0000 - val_loss: 0.2010 - val_accuracy: 0.0130 - val_false_negatives_2: 546.0000\n",
            "Epoch 19/50\n",
            "1875/1875 [==============================] - 8s 5ms/step - loss: 0.1116 - accuracy: 0.0115 - false_negatives_2: 2227.0000 - val_loss: 0.1885 - val_accuracy: 0.0083 - val_false_negatives_2: 502.0000\n",
            "Epoch 20/50\n",
            "1875/1875 [==============================] - 8s 4ms/step - loss: 0.1064 - accuracy: 0.0109 - false_negatives_2: 2180.0000 - val_loss: 0.1970 - val_accuracy: 0.0118 - val_false_negatives_2: 505.0000\n",
            "Epoch 21/50\n",
            "1875/1875 [==============================] - 9s 5ms/step - loss: 0.1096 - accuracy: 0.0135 - false_negatives_2: 2225.0000 - val_loss: 0.2060 - val_accuracy: 0.0162 - val_false_negatives_2: 537.0000\n",
            "Epoch 22/50\n",
            "1875/1875 [==============================] - 8s 4ms/step - loss: 0.1078 - accuracy: 0.0150 - false_negatives_2: 2184.0000 - val_loss: 0.2037 - val_accuracy: 0.0186 - val_false_negatives_2: 514.0000\n",
            "Epoch 23/50\n",
            "1875/1875 [==============================] - 8s 4ms/step - loss: 0.1062 - accuracy: 0.0149 - false_negatives_2: 2130.0000 - val_loss: 0.2100 - val_accuracy: 0.0135 - val_false_negatives_2: 552.0000\n",
            "Epoch 24/50\n",
            "1875/1875 [==============================] - 9s 5ms/step - loss: 0.1061 - accuracy: 0.0164 - false_negatives_2: 2122.0000 - val_loss: 0.2041 - val_accuracy: 0.0203 - val_false_negatives_2: 507.0000\n",
            "Epoch 25/50\n",
            "1875/1875 [==============================] - 8s 4ms/step - loss: 0.1017 - accuracy: 0.0184 - false_negatives_2: 2065.0000 - val_loss: 0.2222 - val_accuracy: 0.0154 - val_false_negatives_2: 573.0000\n",
            "Epoch 26/50\n",
            "1875/1875 [==============================] - 9s 5ms/step - loss: 0.1034 - accuracy: 0.0224 - false_negatives_2: 2099.0000 - val_loss: 0.2218 - val_accuracy: 0.0282 - val_false_negatives_2: 527.0000\n",
            "Epoch 27/50\n",
            "1875/1875 [==============================] - 8s 5ms/step - loss: 0.1002 - accuracy: 0.0197 - false_negatives_2: 2056.0000 - val_loss: 0.2085 - val_accuracy: 0.0158 - val_false_negatives_2: 517.0000\n",
            "Epoch 28/50\n",
            "1875/1875 [==============================] - 9s 5ms/step - loss: 0.0977 - accuracy: 0.0157 - false_negatives_2: 1961.0000 - val_loss: 0.2465 - val_accuracy: 0.0250 - val_false_negatives_2: 554.0000\n",
            "Epoch 29/50\n",
            "1875/1875 [==============================] - 8s 4ms/step - loss: 0.1012 - accuracy: 0.0206 - false_negatives_2: 1959.0000 - val_loss: 0.2242 - val_accuracy: 0.0184 - val_false_negatives_2: 542.0000\n",
            "Epoch 30/50\n",
            "1875/1875 [==============================] - 9s 5ms/step - loss: 0.0990 - accuracy: 0.0224 - false_negatives_2: 1982.0000 - val_loss: 0.2233 - val_accuracy: 0.0167 - val_false_negatives_2: 568.0000\n",
            "Epoch 31/50\n",
            "1875/1875 [==============================] - 9s 5ms/step - loss: 0.0983 - accuracy: 0.0207 - false_negatives_2: 2010.0000 - val_loss: 0.2207 - val_accuracy: 0.0207 - val_false_negatives_2: 538.0000\n",
            "Epoch 32/50\n",
            "1875/1875 [==============================] - 9s 5ms/step - loss: 0.0953 - accuracy: 0.0218 - false_negatives_2: 1879.0000 - val_loss: 0.2106 - val_accuracy: 0.0176 - val_false_negatives_2: 490.0000\n",
            "Epoch 33/50\n",
            "1875/1875 [==============================] - 9s 5ms/step - loss: 0.0930 - accuracy: 0.0212 - false_negatives_2: 1879.0000 - val_loss: 0.2256 - val_accuracy: 0.0164 - val_false_negatives_2: 521.0000\n",
            "Epoch 34/50\n",
            "1875/1875 [==============================] - 9s 5ms/step - loss: 0.0955 - accuracy: 0.0249 - false_negatives_2: 1912.0000 - val_loss: 0.2153 - val_accuracy: 0.0152 - val_false_negatives_2: 535.0000\n",
            "Epoch 35/50\n",
            "1875/1875 [==============================] - 9s 5ms/step - loss: 0.0941 - accuracy: 0.0257 - false_negatives_2: 1902.0000 - val_loss: 0.2191 - val_accuracy: 0.0192 - val_false_negatives_2: 530.0000\n",
            "Epoch 36/50\n",
            "1875/1875 [==============================] - 9s 5ms/step - loss: 0.0995 - accuracy: 0.0349 - false_negatives_2: 1970.0000 - val_loss: 0.2227 - val_accuracy: 0.0293 - val_false_negatives_2: 535.0000\n",
            "Epoch 37/50\n",
            "1875/1875 [==============================] - 9s 5ms/step - loss: 0.0939 - accuracy: 0.0269 - false_negatives_2: 1872.0000 - val_loss: 0.2427 - val_accuracy: 0.0276 - val_false_negatives_2: 526.0000\n",
            "Epoch 38/50\n",
            "1875/1875 [==============================] - 9s 5ms/step - loss: 0.0915 - accuracy: 0.0266 - false_negatives_2: 1799.0000 - val_loss: 0.2407 - val_accuracy: 0.0242 - val_false_negatives_2: 518.0000\n",
            "Epoch 39/50\n",
            "1875/1875 [==============================] - 9s 5ms/step - loss: 0.0920 - accuracy: 0.0264 - false_negatives_2: 1819.0000 - val_loss: 0.2290 - val_accuracy: 0.0242 - val_false_negatives_2: 498.0000\n",
            "Epoch 40/50\n",
            "1875/1875 [==============================] - 9s 5ms/step - loss: 0.0899 - accuracy: 0.0340 - false_negatives_2: 1786.0000 - val_loss: 0.2530 - val_accuracy: 0.0493 - val_false_negatives_2: 533.0000\n",
            "Epoch 41/50\n",
            "1875/1875 [==============================] - 9s 5ms/step - loss: 0.0873 - accuracy: 0.0423 - false_negatives_2: 1789.0000 - val_loss: 0.2618 - val_accuracy: 0.0514 - val_false_negatives_2: 545.0000\n",
            "Epoch 42/50\n",
            "1875/1875 [==============================] - 8s 4ms/step - loss: 0.0925 - accuracy: 0.0460 - false_negatives_2: 1797.0000 - val_loss: 0.2413 - val_accuracy: 0.0496 - val_false_negatives_2: 514.0000\n",
            "Epoch 43/50\n",
            "1875/1875 [==============================] - 9s 5ms/step - loss: 0.0876 - accuracy: 0.0360 - false_negatives_2: 1718.0000 - val_loss: 0.2340 - val_accuracy: 0.0344 - val_false_negatives_2: 533.0000\n",
            "Epoch 44/50\n",
            "1875/1875 [==============================] - 9s 5ms/step - loss: 0.0890 - accuracy: 0.0364 - false_negatives_2: 1762.0000 - val_loss: 0.2325 - val_accuracy: 0.0378 - val_false_negatives_2: 512.0000\n",
            "Epoch 45/50\n",
            "1875/1875 [==============================] - 9s 5ms/step - loss: 0.0889 - accuracy: 0.0302 - false_negatives_2: 1741.0000 - val_loss: 0.2274 - val_accuracy: 0.0293 - val_false_negatives_2: 495.0000\n",
            "Epoch 46/50\n",
            "1875/1875 [==============================] - 9s 5ms/step - loss: 0.0871 - accuracy: 0.0339 - false_negatives_2: 1705.0000 - val_loss: 0.2453 - val_accuracy: 0.0446 - val_false_negatives_2: 511.0000\n",
            "Epoch 47/50\n",
            "1875/1875 [==============================] - 9s 5ms/step - loss: 0.0861 - accuracy: 0.0347 - false_negatives_2: 1755.0000 - val_loss: 0.2654 - val_accuracy: 0.0382 - val_false_negatives_2: 552.0000\n",
            "Epoch 48/50\n",
            "1875/1875 [==============================] - 9s 5ms/step - loss: 0.0851 - accuracy: 0.0362 - false_negatives_2: 1692.0000 - val_loss: 0.2425 - val_accuracy: 0.0301 - val_false_negatives_2: 546.0000\n",
            "Epoch 49/50\n",
            "1875/1875 [==============================] - 9s 5ms/step - loss: 0.0847 - accuracy: 0.0382 - false_negatives_2: 1689.0000 - val_loss: 0.2327 - val_accuracy: 0.0338 - val_false_negatives_2: 505.0000\n",
            "Epoch 50/50\n",
            "1875/1875 [==============================] - 9s 5ms/step - loss: 0.0864 - accuracy: 0.0370 - false_negatives_2: 1658.0000 - val_loss: 0.2298 - val_accuracy: 0.0271 - val_false_negatives_2: 523.0000\n"
          ]
        }
      ]
    },
    {
      "cell_type": "code",
      "metadata": {
        "colab": {
          "base_uri": "https://localhost:8080/"
        },
        "id": "ICSF5WPN1tlJ",
        "outputId": "87a74630-1789-44cc-dce9-86b186dc754c"
      },
      "source": [
        "x_train.shape"
      ],
      "execution_count": 14,
      "outputs": [
        {
          "output_type": "execute_result",
          "data": {
            "text/plain": [
              "(60000, 784)"
            ]
          },
          "metadata": {},
          "execution_count": 14
        }
      ]
    },
    {
      "cell_type": "code",
      "metadata": {
        "id": "AfnYWuXp1zNT"
      },
      "source": [
        "y_predict  = model.predict(x_test)"
      ],
      "execution_count": 15,
      "outputs": []
    },
    {
      "cell_type": "code",
      "metadata": {
        "colab": {
          "base_uri": "https://localhost:8080/"
        },
        "id": "tiQaN4_u6q6n",
        "outputId": "cf837f83-2737-4705-c608-5f1ef8d5340f"
      },
      "source": [
        "y_predict[2]"
      ],
      "execution_count": null,
      "outputs": [
        {
          "output_type": "execute_result",
          "data": {
            "text/plain": [
              "array([0.0000000e+00, 1.0000000e+00, 0.0000000e+00, 3.5091181e-35,\n",
              "       0.0000000e+00, 0.0000000e+00, 0.0000000e+00, 0.0000000e+00,\n",
              "       4.7083056e-22, 0.0000000e+00], dtype=float32)"
            ]
          },
          "metadata": {},
          "execution_count": 23
        }
      ]
    },
    {
      "cell_type": "code",
      "metadata": {
        "colab": {
          "base_uri": "https://localhost:8080/"
        },
        "id": "n4vOyoMK7D0V",
        "outputId": "5fca41e3-f10e-4b0e-dc87-b2516e8ce336"
      },
      "source": [
        "x_test[6].shape"
      ],
      "execution_count": null,
      "outputs": [
        {
          "output_type": "execute_result",
          "data": {
            "text/plain": [
              "(784,)"
            ]
          },
          "metadata": {},
          "execution_count": 20
        }
      ]
    },
    {
      "cell_type": "code",
      "metadata": {
        "id": "YTQy7LX17I-J"
      },
      "source": [
        ""
      ],
      "execution_count": null,
      "outputs": []
    }
  ]
}