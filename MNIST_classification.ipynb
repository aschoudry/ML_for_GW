{
  "nbformat": 4,
  "nbformat_minor": 0,
  "metadata": {
    "colab": {
      "name": "MNIST_classification.ipynb",
      "provenance": [],
      "collapsed_sections": [],
      "authorship_tag": "ABX9TyP8wq2y+DG3xLxzJ2hhBHej",
      "include_colab_link": true
    },
    "kernelspec": {
      "name": "python3",
      "display_name": "Python 3"
    },
    "language_info": {
      "name": "python"
    },
    "accelerator": "GPU"
  },
  "cells": [
    {
      "cell_type": "markdown",
      "metadata": {
        "id": "view-in-github",
        "colab_type": "text"
      },
      "source": [
        "<a href=\"https://colab.research.google.com/github/aschoudry/ML_imageClassifier/blob/main/MNIST_classification.ipynb\" target=\"_parent\"><img src=\"https://colab.research.google.com/assets/colab-badge.svg\" alt=\"Open In Colab\"/></a>"
      ]
    },
    {
      "cell_type": "code",
      "metadata": {
        "id": "2Eg_0166Q-cW"
      },
      "source": [
        "%matplotlib inline\n",
        "import tensorflow as tf\n",
        "from tensorflow import keras\n",
        "import matplotlib.pyplot as plt\n",
        "import random"
      ],
      "execution_count": 1,
      "outputs": []
    },
    {
      "cell_type": "code",
      "metadata": {
        "colab": {
          "base_uri": "https://localhost:8080/",
          "height": 35
        },
        "id": "r69fwreM2kep",
        "outputId": "9adc88e1-32f3-429b-b90d-235e3fb2d060"
      },
      "source": [
        "tf.__version__"
      ],
      "execution_count": 2,
      "outputs": [
        {
          "output_type": "execute_result",
          "data": {
            "application/vnd.google.colaboratory.intrinsic+json": {
              "type": "string"
            },
            "text/plain": [
              "'2.6.0'"
            ]
          },
          "metadata": {},
          "execution_count": 2
        }
      ]
    },
    {
      "cell_type": "code",
      "metadata": {
        "colab": {
          "base_uri": "https://localhost:8080/"
        },
        "id": "gRytk2zUBXJA",
        "outputId": "753b9929-94b7-4601-9acf-9f8f2defd52d"
      },
      "source": [
        "(x_train, y_train), (x_test, y_test) = keras.datasets.mnist.load_data()\n"
      ],
      "execution_count": 3,
      "outputs": [
        {
          "output_type": "stream",
          "name": "stdout",
          "text": [
            "Downloading data from https://storage.googleapis.com/tensorflow/tf-keras-datasets/mnist.npz\n",
            "11493376/11490434 [==============================] - 0s 0us/step\n",
            "11501568/11490434 [==============================] - 0s 0us/step\n"
          ]
        }
      ]
    },
    {
      "cell_type": "code",
      "metadata": {
        "colab": {
          "base_uri": "https://localhost:8080/",
          "height": 265
        },
        "id": "ifdriCt6I8zN",
        "outputId": "b94c5416-4256-48b0-daee-b3ae1feb13b0"
      },
      "source": [
        "fig, ax = plt.subplots()\n",
        "im = ax.imshow(x_train[7])\n",
        "\n",
        "plt.show()"
      ],
      "execution_count": 4,
      "outputs": [
        {
          "output_type": "display_data",
          "data": {
            "image/png": "[encoded data removed]",
            "text/plain": [
              "<Figure size 432x288 with 1 Axes>"
            ]
          },
          "metadata": {
            "needs_background": "light"
          }
        }
      ]
    },
    {
      "cell_type": "code",
      "metadata": {
        "colab": {
          "base_uri": "https://localhost:8080/"
        },
        "id": "WjPoNhw_uZNX",
        "outputId": "28350ba0-6265-4864-a9c5-879e58c65398"
      },
      "source": [
        "x_train.shape"
      ],
      "execution_count": 5,
      "outputs": [
        {
          "output_type": "execute_result",
          "data": {
            "text/plain": [
              "(60000, 28, 28)"
            ]
          },
          "metadata": {},
          "execution_count": 5
        }
      ]
    },
    {
      "cell_type": "code",
      "metadata": {
        "id": "uurK5Du6ucuL"
      },
      "source": [
        "x_train = x_train.reshape(60000, 784)\n",
        "x_test = x_test.reshape(10000, 784)"
      ],
      "execution_count": 6,
      "outputs": []
    },
    {
      "cell_type": "code",
      "metadata": {
        "id": "1M1pCceiBdIV"
      },
      "source": [
        "from tensorflow.keras.utils import to_categorical\n",
        "y_train = to_categorical(y_train)\n"
      ],
      "execution_count": 7,
      "outputs": []
    },
    {
      "cell_type": "code",
      "metadata": {
        "id": "sU-qipfs1ieo"
      },
      "source": [
        "y_test = to_categorical(y_test)"
      ],
      "execution_count": 8,
      "outputs": []
    },
    {
      "cell_type": "code",
      "metadata": {
        "colab": {
          "base_uri": "https://localhost:8080/"
        },
        "id": "EAxe0Uk11TgV",
        "outputId": "00ce7354-321d-40d9-e8c9-f78c55b8bd09"
      },
      "source": [
        "y_train.shape"
      ],
      "execution_count": 9,
      "outputs": [
        {
          "output_type": "execute_result",
          "data": {
            "text/plain": [
              "(60000, 10)"
            ]
          },
          "metadata": {},
          "execution_count": 9
        }
      ]
    },
    {
      "cell_type": "code",
      "metadata": {
        "id": "JNoUBAInufeL"
      },
      "source": [
        "model = tf.keras.models.Sequential()\n",
        "model.add(tf.keras.layers.Input(shape=(784,)))\n",
        "model.add(tf.keras.layers.Dense(300, activation=\"relu\"))\n",
        "model.add(tf.keras.layers.Dense(100, activation=\"relu\"))\n",
        "model.add(tf.keras.layers.Dense(50, activation=\"relu\"))\n",
        "model.add(tf.keras.layers.Dense(30, activation=\"relu\"))\n",
        "model.add(tf.keras.layers.Dense(10, activation=\"softmax\"))"
      ],
      "execution_count": 25,
      "outputs": []
    },
    {
      "cell_type": "code",
      "metadata": {
        "colab": {
          "base_uri": "https://localhost:8080/"
        },
        "id": "yoQkn5OOuhdV",
        "outputId": "032d8dec-9543-4bdb-a22a-591bf8e6a2df"
      },
      "source": [
        "model.summary()"
      ],
      "execution_count": 26,
      "outputs": [
        {
          "output_type": "stream",
          "name": "stdout",
          "text": [
            "Model: \"sequential_3\"\n",
            "_________________________________________________________________\n",
            "Layer (type)                 Output Shape              Param #   \n",
            "=================================================================\n",
            "dense_7 (Dense)              (None, 300)               235500    \n",
            "_________________________________________________________________\n",
            "dense_8 (Dense)              (None, 100)               30100     \n",
            "_________________________________________________________________\n",
            "dense_9 (Dense)              (None, 50)                5050      \n",
            "_________________________________________________________________\n",
            "dense_10 (Dense)             (None, 30)                1530      \n",
            "_________________________________________________________________\n",
            "dense_11 (Dense)             (None, 10)                310       \n",
            "=================================================================\n",
            "Total params: 272,490\n",
            "Trainable params: 272,490\n",
            "Non-trainable params: 0\n",
            "_________________________________________________________________\n"
          ]
        }
      ]
    },
    {
      "cell_type": "code",
      "metadata": {
        "id": "9cuPtnGjvXjv"
      },
      "source": [
        "model.compile(optimizer=\"Adam\",\n",
        "              loss=tf.keras.losses.CategoricalCrossentropy(),\n",
        "              metrics=[tf.keras.metrics.Accuracy(),\n",
        "                       tf.keras.metrics.FalseNegatives()])"
      ],
      "execution_count": 27,
      "outputs": []
    },
    {
      "cell_type": "code",
      "metadata": {
        "colab": {
          "base_uri": "https://localhost:8080/"
        },
        "id": "TzFVM5RRyxWH",
        "outputId": "38d6c8d5-a14f-47bb-8881-632c2c41c1f9"
      },
      "source": [
        "history = model.fit(x=x_train, y=y_train, batch_size=32, epochs=10, shuffle=True, validation_data=(x_test, y_test))"
      ],
      "execution_count": 28,
      "outputs": [
        {
          "output_type": "stream",
          "name": "stdout",
          "text": [
            "Epoch 1/10\n",
            "1875/1875 [==============================] - 10s 5ms/step - loss: 0.7082 - accuracy: 0.0090 - false_negatives_3: 7519.0000 - val_loss: 0.2137 - val_accuracy: 0.0034 - val_false_negatives_3: 647.0000\n",
            "Epoch 2/10\n",
            "1875/1875 [==============================] - 9s 5ms/step - loss: 0.1858 - accuracy: 0.0060 - false_negatives_3: 3430.0000 - val_loss: 0.2173 - val_accuracy: 0.0075 - val_false_negatives_3: 624.0000\n",
            "Epoch 3/10\n",
            "1875/1875 [==============================] - 9s 5ms/step - loss: 0.1452 - accuracy: 0.0081 - false_negatives_3: 2732.0000 - val_loss: 0.1799 - val_accuracy: 0.0071 - val_false_negatives_3: 508.0000\n",
            "Epoch 4/10\n",
            "1875/1875 [==============================] - 9s 5ms/step - loss: 0.1234 - accuracy: 0.0073 - false_negatives_3: 2312.0000 - val_loss: 0.1206 - val_accuracy: 0.0063 - val_false_negatives_3: 357.0000\n",
            "Epoch 5/10\n",
            "1875/1875 [==============================] - 9s 5ms/step - loss: 0.1017 - accuracy: 0.0090 - false_negatives_3: 1961.0000 - val_loss: 0.1363 - val_accuracy: 0.0109 - val_false_negatives_3: 408.0000\n",
            "Epoch 6/10\n",
            "1875/1875 [==============================] - 9s 5ms/step - loss: 0.0916 - accuracy: 0.0128 - false_negatives_3: 1725.0000 - val_loss: 0.1240 - val_accuracy: 0.0163 - val_false_negatives_3: 348.0000\n",
            "Epoch 7/10\n",
            "1875/1875 [==============================] - 9s 5ms/step - loss: 0.0787 - accuracy: 0.0144 - false_negatives_3: 1477.0000 - val_loss: 0.1145 - val_accuracy: 0.0132 - val_false_negatives_3: 322.0000\n",
            "Epoch 8/10\n",
            "1875/1875 [==============================] - 9s 5ms/step - loss: 0.0686 - accuracy: 0.0223 - false_negatives_3: 1301.0000 - val_loss: 0.1195 - val_accuracy: 0.0161 - val_false_negatives_3: 323.0000\n",
            "Epoch 9/10\n",
            "1875/1875 [==============================] - 9s 5ms/step - loss: 0.0611 - accuracy: 0.0238 - false_negatives_3: 1170.0000 - val_loss: 0.1912 - val_accuracy: 0.0366 - val_false_negatives_3: 348.0000\n",
            "Epoch 10/10\n",
            "1875/1875 [==============================] - 9s 5ms/step - loss: 0.0529 - accuracy: 0.0316 - false_negatives_3: 983.0000 - val_loss: 0.1165 - val_accuracy: 0.0318 - val_false_negatives_3: 262.0000\n"
          ]
        }
      ]
    },
    {
      "cell_type": "code",
      "metadata": {
        "colab": {
          "base_uri": "https://localhost:8080/"
        },
        "id": "ICSF5WPN1tlJ",
        "outputId": "87a74630-1789-44cc-dce9-86b186dc754c"
      },
      "source": [
        "x_train.shape"
      ],
      "execution_count": 14,
      "outputs": [
        {
          "output_type": "execute_result",
          "data": {
            "text/plain": [
              "(60000, 784)"
            ]
          },
          "metadata": {},
          "execution_count": 14
        }
      ]
    },
    {
      "cell_type": "code",
      "metadata": {
        "id": "AfnYWuXp1zNT"
      },
      "source": [
        "y_predict  = model.predict(x_test)"
      ],
      "execution_count": 15,
      "outputs": []
    },
    {
      "cell_type": "code",
      "metadata": {
        "colab": {
          "base_uri": "https://localhost:8080/"
        },
        "id": "tiQaN4_u6q6n",
        "outputId": "cf837f83-2737-4705-c608-5f1ef8d5340f"
      },
      "source": [
        "y_predict[2]"
      ],
      "execution_count": null,
      "outputs": [
        {
          "output_type": "execute_result",
          "data": {
            "text/plain": [
              "array([0.0000000e+00, 1.0000000e+00, 0.0000000e+00, 3.5091181e-35,\n",
              "       0.0000000e+00, 0.0000000e+00, 0.0000000e+00, 0.0000000e+00,\n",
              "       4.7083056e-22, 0.0000000e+00], dtype=float32)"
            ]
          },
          "metadata": {},
          "execution_count": 23
        }
      ]
    },
    {
      "cell_type": "code",
      "metadata": {
        "colab": {
          "base_uri": "https://localhost:8080/"
        },
        "id": "n4vOyoMK7D0V",
        "outputId": "5fca41e3-f10e-4b0e-dc87-b2516e8ce336"
      },
      "source": [
        "x_test[6].shape"
      ],
      "execution_count": null,
      "outputs": [
        {
          "output_type": "execute_result",
          "data": {
            "text/plain": [
              "(784,)"
            ]
          },
          "metadata": {},
          "execution_count": 20
        }
      ]
    },
    {
      "cell_type": "code",
      "metadata": {
        "id": "YTQy7LX17I-J"
      },
      "source": [
        ""
      ],
      "execution_count": null,
      "outputs": []
    }
  ]
}